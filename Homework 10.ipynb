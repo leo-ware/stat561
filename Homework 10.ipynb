{
 "cells": [
  {
   "cell_type": "markdown",
   "metadata": {},
   "source": [
    "# Chapter 5.6"
   ]
  },
  {
   "cell_type": "markdown",
   "metadata": {},
   "source": [
    "3. If the temperature in degrees Fahrenheit at a certain\n",
    "location is normally distributed with a mean of 68 degrees\n",
    "and a standard deviation of 4 degrees, what is the distribution of the temperature in degrees Celsius at the same\n",
    "location?"
   ]
  },
  {
   "cell_type": "markdown",
   "metadata": {},
   "source": [
    "$$\n",
    "F^\\circ \\sim N(68, 4)\n",
    "$$\n",
    "\n",
    "$$\n",
    "C^\\circ = (F^\\circ - 32){5 \\over 9}\n",
    "$$\n",
    "\n",
    "We can use the formula for linear transform of a Gaussian. So, we convert the mean using the linear transform formula, and we convert the standard deviation using the scaling term from the formula.\n",
    "\n",
    "$$\n",
    "C^\\circ \\sim N((68 - 32){5 \\over 9}, {5 \\over 9}4)\n",
    "$$\n",
    "\n",
    "$$\n",
    "C^\\circ \\sim N(20, {20 \\over 9}) = N(20, 2.22222222222...)\n",
    "$$"
   ]
  },
  {
   "cell_type": "markdown",
   "metadata": {},
   "source": [
    "4. Find the 0.25 and 0.75 quantiles of the Fahrenheit temperature at the location mentioned in Exercise 3."
   ]
  },
  {
   "cell_type": "markdown",
   "metadata": {},
   "source": [
    "The inverse cdf of $0.75$ for the standard normal is $0.67448975...$. So, the quantiles are:\n",
    "\n",
    "$q(25\\%) = 4(0.67448975...) + 68 = 70.697959...$\n",
    "\n",
    "$q(25\\%) = 68 - 4(0.67448975...) = 65.302041...$"
   ]
  },
  {
   "cell_type": "markdown",
   "metadata": {},
   "source": [
    "5. Let $X_1$, $X_2$, and $X_3$ be independent lifetimes of memory\n",
    "chips. Suppose that each $X_i$ has the normal distribution\n",
    "with mean 300 hours and standard deviation 10 hours.\n",
    "Compute the probability that at least one of the three\n",
    "chips lasts at least 290 hours."
   ]
  },
  {
   "cell_type": "markdown",
   "metadata": {},
   "source": [
    "We are taked with evaluating,\n",
    "\n",
    "$$\n",
    "P(\\max(X_1, X_2, X_3) \\geq 290) = 1 - P(\\max(X_1, X_2, X_3) \\lt 290)\n",
    "$$\n",
    "\n",
    "For the max of of the three lifetimes to be less than 290, each of the lifetimes must be less than 290. These events are independent.\n",
    "\n",
    "$$\n",
    "P(\\max(X_1, X_2, X_3) \\lt 290) = P(X_1 \\lt 290) P(X_2 \\lt 290) P(X_3 \\lt 290)\n",
    "$$\n",
    "\n",
    "Since, $X_i \\sim N(300, 10)$, 290 is 1 standard deviation below the mean. The CDF of the standard normal for $z = 1$ is $0.8413447$, so the CDF of the standard normal for $z = -1$ is $1 - 0.8413447 = 0.1586553$. So,\n",
    "\n",
    "$$\n",
    "P(\\max(X_1, X_2, X_3) \\lt 290) = 0.1586553^3 = 0.00399359255\n",
    "$$\n",
    "\n",
    "$$\n",
    "P(\\max(X_1, X_2, X_3) \\geq 290) = 1 - 0.00399359255 = 0.996\n",
    "$$"
   ]
  },
  {
   "cell_type": "markdown",
   "metadata": {},
   "source": [
    "6. If the m.g.f. of a random variable $X$ is $\\psi(t)= e^{t^2}$ for $-\\infty < t < \\infty$, what is the distribution of $X$?\n",
    "\n",
    "The mgf of the normal is given by,\n",
    "\n",
    "$$\n",
    "\\psi(t) = e^{\\mu t + \\sigma^2 t^2 / 2}\n",
    "$$\n",
    "\n",
    "Guess, $\\mu = 0$ and $\\sigma^2 = 2$.\n",
    "\n",
    "$$\n",
    "\\psi(t) = e^{t^2}\n",
    "$$\n",
    "\n",
    "So,\n",
    "\n",
    "$$\n",
    "X \\sim N(\\mu = 0, \\sigma =\\sqrt{2})\n",
    "$$"
   ]
  },
  {
   "cell_type": "markdown",
   "metadata": {},
   "source": [
    "# Chapter 5.7"
   ]
  },
  {
   "cell_type": "markdown",
   "metadata": {},
   "source": [
    "1. Suppose that $X$ has the gamma distribution with parameters $\\alpha$ and $\\beta$, and $c$ is a positive constant. Show that $cX$ has the gamma distribution with parameters $\\alpha$ and $\\beta/c$.\n",
    "\n",
    "The pdf of the gamma distribution is given by,\n",
    "\n",
    "$$\n",
    "f_X(x) = {\\beta^\\alpha \\over \\Gamma(\\alpha)} x^{\\alpha - 1} \\exp({-x \\beta})\n",
    "$$\n",
    "\n",
    "We are interested in the pdf of $Y = cX$.\n",
    "\n",
    "$X = Y/c$\n",
    "\n",
    "$|X'| = |{1 \\over c}| = {1 \\over c}$\n",
    "\n",
    "So,\n",
    "\n",
    "$f_Y(y)$\n",
    "\n",
    "$= {\\beta^\\alpha \\over \\Gamma(\\alpha)} (y/c)^{\\alpha - 1} \\exp({-(y/c) \\beta}){1 \\over c}$\n",
    "\n",
    "$= {\\beta^\\alpha \\over \\Gamma(\\alpha)} y^{\\alpha - 1} \\exp({-y(\\beta/c)})c^{-\\alpha}$\n",
    "\n",
    "$= {(\\beta/c)^\\alpha \\over \\Gamma(\\alpha)} y^{\\alpha - 1} \\exp({-y(\\beta/c)})$"
   ]
  },
  {
   "cell_type": "markdown",
   "metadata": {},
   "source": [
    "This is just a gamma distribution with parameters $\\alpha$ and $\\beta/c$."
   ]
  },
  {
   "cell_type": "markdown",
   "metadata": {},
   "source": [
    "9. Suppose that a certain system contains three components that function independently of each other and are\n",
    "connected in series, as defined in Exercise 5 of Sec. 3.7,\n",
    "so that the system fails as soon as one of the components fails. Suppose that the length of life of the first component, measured in hours, has the exponential distribution with parameter $\\beta = 0.001$, the length of life of the second\n",
    "component has the exponential distribution with parameter $\\beta = 0.003$, and the length of life of the third component\n",
    "has the exponential distribution with parameter $\\beta = 0.006$.\n",
    "Determine the probability that the system will not fail before 100 hours."
   ]
  },
  {
   "cell_type": "markdown",
   "metadata": {},
   "source": [
    "$$C_1 \\sim \\text{Exp}(\\beta = 0.001)$$\n",
    "$$C_2 \\sim \\text{Exp}(\\beta = 0.003)$$\n",
    "$$C_3 \\sim \\text{Exp}(\\beta = 0.006)$$\n",
    "\n",
    "We are interested in the probability that all three of these components last at least 100 hours. This happens iff each component lasts at least 100 hours. Since the components are independent, we can multiply the probabilities. The CDF of the exponential distribution is $1 - e^{-\\beta x}$.\n",
    "\n",
    "$P(\\min(C_1, C_2, C_3) \\ge 100)$\n",
    "\n",
    "$= P(C_1 \\ge 100)P(C_2 \\ge 100)P(C_3 \\ge 100)$\n",
    "\n",
    "$= (1 - P(C_1 \\lt 100))(1 - P(C_2 \\lt 100))(1 - P(C_3 \\lt 100))$\n",
    "\n",
    "$= (1 - (1 - e^{-100 \\cdot 0.001}))(1 - (1 - e^{-100 \\cdot 0.003}))(1 - (1 - e^{-100 \\cdot 0.006}))$\n",
    "\n",
    "$= e^{-0.1}e^{-0.3}e^{-0.6} = e^{-1} = 0.367879441$\n"
   ]
  },
  {
   "cell_type": "markdown",
   "metadata": {},
   "source": [
    "# Chapter 5.8"
   ]
  },
  {
   "cell_type": "markdown",
   "metadata": {},
   "source": [
    "9. A manufacturer believes that an unknown proportion $P$ of parts produced will be defective. She models $P$ as\n",
    "having a beta distribution. The manufacturer thinks that $P$\n",
    "should be around $0.05$, but if the first 10 observed products\n",
    "were all defective, the mean of $P$ would rise from $0.05$ to\n",
    "$0.9$. Find the beta distribution that has these properties."
   ]
  },
  {
   "cell_type": "markdown",
   "metadata": {},
   "source": [
    "We have,\n",
    "\n",
    "$$\n",
    "E[P] = 0.05 = {\\alpha \\over \\alpha + \\beta}\n",
    "$$\n",
    "\n",
    "$$\n",
    "E[P | \\text{first 10 observed products were defective}] = 0.9 = {\\alpha + 10 \\over \\alpha + \\beta + 10}\n",
    "$$\n",
    "\n",
    "We have two equations and two unknowns. We can solve for $\\alpha$ and $\\beta$.\n",
    "\n",
    "$$\n",
    "0.05(\\alpha + \\beta) = \\alpha\n",
    "$$\n",
    "\n",
    "$$\n",
    "0.05\\beta = (1 - 0.05)\\alpha\n",
    "$$\n",
    "\n",
    "$$\n",
    "\\beta = {1 - 0.05 \\over 0.05}\\alpha\n",
    "$$\n",
    "\n",
    "$$\n",
    "\\beta = 19\\alpha\n",
    "$$\n"
   ]
  },
  {
   "cell_type": "markdown",
   "metadata": {},
   "source": [
    "From the second equation,\n",
    "\n",
    "$$\n",
    "0.9 = {\\alpha + 10 \\over \\alpha + \\beta + 10}\n",
    "$$\n",
    "\n",
    "$$\n",
    "0.9 = {\\alpha + 10 \\over \\alpha + 19\\alpha + 10}\n",
    "$$\n",
    "\n",
    "$$\n",
    "0.9 = {\\alpha + 10 \\over 20\\alpha + 10}\n",
    "$$\n",
    "\n",
    "$$\n",
    "0.9(20\\alpha + 10) = \\alpha + 10\n",
    "$$\n",
    "\n",
    "$$\n",
    "18\\alpha = \\alpha + 1\n",
    "$$\n",
    "\n",
    "$$\n",
    "\\alpha = {1 \\over 17} = 0.058823\n",
    "$$\n",
    "\n",
    "$$\n",
    "\\beta = 19\\alpha = 19/17 = 1.117647\n",
    "$$\n"
   ]
  },
  {
   "cell_type": "markdown",
   "metadata": {},
   "source": [
    "10. A marketer is interested in how many customers are\n",
    "likely to buy a particular product in a particular store. Let\n",
    "$P$ be the proportion of all customers in the store who will\n",
    "buy the product. Let the distribution of $P$ be uniform on\n",
    "the interval $[0, 1]$ before observing any data. The marketer\n",
    "then observes 25 customers and only six buy the product.\n",
    "If the customers were conditionally independent given $P$,\n",
    "find the conditional distribution of $P$ given the observed\n",
    "customers."
   ]
  },
  {
   "cell_type": "markdown",
   "metadata": {},
   "source": [
    "The customers are independent given $P$, so the likelihood is a binomial distribution. The uniform on $[0, 1]$ is a special case of the beta, and the beta is a conjugate prior for the binomial distribution. (Theorem 5.8.2 in Degroot)\n",
    "\n",
    "Prior: $P \\sim \\text{Uniform}(0,1) = \\text{Beta}(1, 1)$\n",
    "\n",
    "Likelihood: $P \\sim \\text{Binomial}(25, 6)$\n",
    "\n",
    "Posterior: $P \\sim \\text{Beta}(1 + 6, 1 + 25 - 6) = \\text{Beta}(7, 20)$"
   ]
  },
  {
   "cell_type": "markdown",
   "metadata": {},
   "source": [
    "So, the posteriod distribution of $P$ is $\\text{Beta}(7, 20)$.\n",
    "\n",
    "$$\n",
    "f_P(p) = {p^{7 - 1}(1 - p)^{20 - 1} \\over B(7, 20)}\n",
    "$$"
   ]
  }
 ],
 "metadata": {
  "kernelspec": {
   "display_name": "venv",
   "language": "python",
   "name": "python3"
  },
  "language_info": {
   "codemirror_mode": {
    "name": "ipython",
    "version": 3
   },
   "file_extension": ".py",
   "mimetype": "text/x-python",
   "name": "python",
   "nbconvert_exporter": "python",
   "pygments_lexer": "ipython3",
   "version": "3.12.5"
  }
 },
 "nbformat": 4,
 "nbformat_minor": 2
}
