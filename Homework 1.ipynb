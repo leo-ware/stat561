{
  "cells": [
    {
      "cell_type": "markdown",
      "metadata": {},
      "source": [
        "# Section 1.4"
      ]
    },
    {
      "cell_type": "markdown",
      "metadata": {},
      "source": [
        "**Question 1** Suppose that $A \\subset B$. Show that $B^c \\subset A^c$.\n",
        "\n",
        "The definition of complement is that $x \\in A \\equiv \\neg x \\in A^C$.\n",
        "\n",
        "Note this is only well defined if we constrain $x$ to hold certain values (e.g. $\\forall x \\in \\R$). Else, it is susceptible to Russel's paradox. We will assume that $x$ represents an event, and that events cannot be sets containing other sets.\n",
        "\n",
        "1. Suppose $A \\subset B$\n",
        "2. $x \\in A\\implies x \\in B$\n",
        "3. $\\neg x \\in A^C \\implies \\neg x \\in B^C$\n",
        "4. $\\neg \\neg x \\in A^C \\lor \\neg x \\in B^C$\n",
        "4. $\\neg x \\in B^C \\lor x \\in A^C$\n",
        "6. $x \\in B^C \\implies x \\in A^C$\n",
        "7. $B^C \\subset A^C$\n",
        "\n",
        "So, $A \\subset B \\implies B^C \\subset A^C$"
      ]
    },
    {
      "cell_type": "markdown",
      "metadata": {},
      "source": [
        "**Question 2** Prove the distributive properties in Theorem 1.4.10.\n",
        "\n",
        "Theorem 1.4.10:\n",
        "\n",
        "$A \\cup (B \\cap C) \\equiv (A \\cup B) \\cap (A \\cup C)\\\\$\n",
        "$A \\cap (B \\cup C) \\equiv (A \\cap B) \\cup (A \\cap C)$\n",
        "\n",
        "Truth table for distributive property of disjunction over conjunction:\n",
        "\n",
        "| $A$ | $B$ | $C$ | $B \\land C$ | $A \\lor B$ | $A \\lor C$ | $A \\lor (B \\land C)$ | $(A \\lor B) \\land (A \\lor C)$ |\n",
        "| - | - | - | - | - | - | - | - |\n",
        "| 0 | 0 | 0 | 0 | 0 | 0 | 0 | 0 |\n",
        "| 0 | 0 | 1 | 0 | 0 | 1 | 0 | 0 |\n",
        "| 0 | 1 | 0 | 0 | 1 | 0 | 0 | 0 |\n",
        "| 0 | 1 | 1 | 1 | 1 | 1 | 1 | 1 |\n",
        "| 1 | 0 | 0 | 0 | 1 | 1 | 1 | 1 |\n",
        "| 1 | 0 | 1 | 0 | 1 | 1 | 1 | 1 |\n",
        "| 1 | 1 | 0 | 0 | 1 | 1 | 1 | 1 |\n",
        "| 1 | 1 | 1 | 1 | 1 | 1 | 1 | 1 |\n",
        "\n",
        "This suffices to show that $A \\lor (B \\land C) \\equiv (A \\lor B) \\land (A \\lor C)$\n",
        "\n",
        "Truth table for distributive property of conjunction over disjunction:\n",
        "\n",
        "| $A$ | $B$ | $C$ | $B \\lor C$ | $A \\land B$ | $A \\land C$ | $A \\land (B \\lor C)$ | $(A \\land B) \\lor (A \\land C)$ |\n",
        "| - | - | - | - | - | - | - | - |\n",
        "| 0 | 0 | 0 | 0 | 0 | 0 | 0 | 0 |\n",
        "| 0 | 0 | 1 | 1 | 0 | 0 | 0 | 0 |\n",
        "| 0 | 1 | 0 | 1 | 0 | 0 | 0 | 0 |\n",
        "| 0 | 1 | 1 | 1 | 0 | 0 | 0 | 0 |\n",
        "| 1 | 0 | 0 | 0 | 0 | 0 | 0 | 0 |\n",
        "| 1 | 0 | 1 | 1 | 0 | 1 | 1 | 1 |\n",
        "| 1 | 1 | 0 | 1 | 1 | 0 | 1 | 1 |\n",
        "| 1 | 1 | 1 | 1 | 1 | 1 | 1 | 1 |\n",
        "\n",
        "This suffices to show that $A \\land (B \\lor C) \\equiv (A \\land B) \\lor (A \\land C)$"
      ]
    },
    {
      "cell_type": "markdown",
      "metadata": {},
      "source": [
        "\n",
        "\n",
        "Proof of $A \\cup (B \\cap C) = (A \\cup B) \\cap (A \\cup C)$\n",
        "1. To show $A \\cup (B \\cap C) = (A \\cup B) \\cap (A \\cup C)$, by extensionality, it suffices to show\n",
        "    - $x \\in A \\cup (B \\cap C) \\equiv x \\in (A \\cup B) \\cap (A \\cup C)$\n",
        "2. $x \\in A \\cup (B \\cap C)$\n",
        "    - $\\equiv x \\in A \\lor x \\in (B \\cap C)$, by the definition of union\n",
        "    - $\\equiv x \\in A \\lor (x \\in B \\land x \\in C)$, by the definition of intersection\n",
        "3. $x \\in (A \\cup B) \\cap (A \\cup C)$\n",
        "    - $\\equiv x \\in (A \\cup B) \\land x \\in (A \\cup C)$\n",
        "    - $\\equiv (x \\in A \\lor x \\in B) \\land (x \\in A \\lor x \\in C)$\n",
        "4. Substitute 2 & 3 into 1.\n",
        "    - $x \\in A \\lor (x \\in B \\land x \\in C) \\equiv (x \\in A \\lor x \\in B) \\land (x \\in A \\lor x \\in C)$\n",
        "5. This follows from the distributive property of disjunction over conjunction."
      ]
    },
    {
      "cell_type": "markdown",
      "metadata": {},
      "source": [
        "Proof of $A \\cap (B \\cup C) \\equiv (A \\cap B) \\cup (A \\cap C)$\n",
        "\n",
        "1. To show $A \\cap (B \\cup C) = (A \\cap B) \\cup (A \\cap C)$, by extensionality, it suffices to show\n",
        "    - $x \\in A \\cap (B \\cup C) \\equiv x \\in (A \\cap B) \\cup (A \\cap C)$\n",
        "2. $x \\in A \\cap (B \\cup C)$\n",
        "    - $\\equiv x \\in A \\land x \\in (B \\cup C)$, by the definition of intersection\n",
        "    - $\\equiv x \\in A \\land  (x \\in B \\lor x \\in C)$, by the definition of union\n",
        "3. $x \\in (A \\cap B) \\cup (A \\cap C)$\n",
        "    - $\\equiv x \\in (A \\cap B) \\lor x \\in (A \\cap C)$\n",
        "    - $\\equiv (x \\in A \\land x \\in B) \\lor (x \\in A \\land x \\in C)$\n",
        "4. Substitute 2 & 3 into 1.\n",
        "    - $x \\in A \\land  (x \\in B \\lor x \\in C) \\equiv (x \\in A \\land x \\in B) \\lor (x \\in A \\land x \\in C)$\n",
        "5. This follows from the distributive property of conjunction over disjunction."
      ]
    },
    {
      "cell_type": "markdown",
      "metadata": {},
      "source": [
        "**Question 3** Prove De Morgan’s laws (Theorem 1.4.9).\n",
        "\n",
        "De Morgan's Laws for sets:\n",
        "\n",
        "$(A \\cup B)^C = A^C \\cap B^C$\n",
        "\n",
        "$(A \\cap B)^C = A^C \\cup B^C$"
      ]
    },
    {
      "attachments": {
        "image-2.png": {
          "image/png": "[encoded data removed]"
        }
      },
      "cell_type": "markdown",
      "metadata": {},
      "source": [
        "Intuition: we can see that $(A \\cup B)^C$ covers the same region as $A^C \\cap B^C$. The same for $(A \\cap B)^C$ and $A^C \\cup B^C$.\n",
        "\n",
        "![image-2.png](attachment:image-2.png)"
      ]
    },
    {
      "cell_type": "markdown",
      "metadata": {},
      "source": [
        "We will first show the corresponding rules for propositional logic, then use these to prove the above.\n",
        "\n",
        "*Lemma 1*: $(A \\land B) \\equiv \\neg (\\neg A \\lor \\neg B)$\n",
        "\n",
        "To show lemma 1, it suffices to show:\n",
        "- *Lemma 1.1*: $(A \\land B) \\implies \\neg (\\neg A \\lor \\neg B)$\n",
        "- *Lemma 1.2*: $\\neg (\\neg A \\lor \\neg B) \\implies (A \\land B)$"
      ]
    },
    {
      "cell_type": "markdown",
      "metadata": {},
      "source": [
        "Proof of lemma 1.1, $(A \\land B) \\implies \\neg (\\neg A \\lor \\neg B)$\n",
        "1. Suppose $A \\land B$\n",
        "2. A\n",
        "3. B\n",
        "4. Proof by contradiction, suppose $\\neg A \\lor \\neg B$\n",
        "5. Proof by cases on 4:\n",
        "    - Case 1: suppose $\\neg A$\n",
        "        - $A \\land \\neg A$, by 1 and case 1\n",
        "        - Contradiction\n",
        "    - Case 2: suppose $\\neg B$\n",
        "        - $B \\land \\neg B$, by 2 and case 2\n",
        "        - Contradiction\n",
        "6. By contradiction $\\neg (\\neg A \\lor \\neg B)$\n",
        "\n",
        "Therefore:\n",
        "\n",
        "$A \\land B \\implies \\neg (\\neg A \\lor \\neg B)$"
      ]
    },
    {
      "cell_type": "markdown",
      "metadata": {},
      "source": [
        "Proof of lemma 1.2, $\\neg (\\neg A \\lor \\neg B) \\implies (A \\land B)$\n",
        "1. Suppose $\\neg (\\neg A \\lor \\neg B)$\n",
        "2. Proof that $A \\implies B$\n",
        "    1. Suppose $A$\n",
        "    2. $\\neg (\\neg \\text{True} \\lor \\neg B)$, by 1, 2.1\n",
        "    3. $\\neg (\\text{False} \\lor \\neg B)$\n",
        "    4. $\\neg \\neg B$\n",
        "    5. $B$\n",
        "    6. This suffices to prove $A \\implies B$\n",
        "3. By symmetry, $B \\implies A$\n",
        "4. $A \\equiv B$, by 2, 3\n",
        "5. Proof of $A$ by contradiction\n",
        "    1. Suppose $\\neg A$\n",
        "    2. $\\neg B$, by 4, 5.1\n",
        "    3. $\\neg (\\text{True} \\lor \\text{True})$, by 1, 5.1, 5.2\n",
        "    4. $\\neg \\text{True}$, by 5.3\n",
        "    5. Contradiction, this suffices to prove $A$\n",
        "6. $B$, by 4, 5\n",
        "7. $A \\land B$, by 5, 6\n",
        "\n",
        "Therefore:\n",
        "\n",
        "$\\neg (\\neg A \\lor \\neg B) \\implies (A \\land B)$"
      ]
    },
    {
      "cell_type": "markdown",
      "metadata": {},
      "source": [
        "This suffices to show lemma 1, $(A \\land B) \\equiv \\neg (\\neg A \\lor \\neg B)$"
      ]
    },
    {
      "cell_type": "markdown",
      "metadata": {},
      "source": [
        "*Lemma 2*: $A \\lor B \\equiv \\neg (\\neg A \\land \\neg B)$\n",
        "\n",
        "To show lemma 2, it suffices to show\n",
        "- *Lemma 2.1* $A \\lor B \\implies \\neg (\\neg A \\land \\neg B)$\n",
        "- *Lemma 2.2* $\\neg (\\neg A \\land \\neg B) \\implies A \\lor B$"
      ]
    },
    {
      "cell_type": "markdown",
      "metadata": {},
      "source": [
        "Proof of lemma 2.1, $A \\lor B \\implies \\neg (\\neg A \\land \\neg B)$\n",
        "\n",
        "1. Suppose $A \\lor B$\n",
        "2. Proof of $\\neg (\\neg A \\land \\neg B)$ by contradiction\n",
        "    1. suppose $\\neg A \\land \\neg B$\n",
        "    1. $\\neg A$\n",
        "    2. $\\neg B$\n",
        "    3. $\\text{False} \\lor \\text{False}$, by 1, 2.2, 2.3\n",
        "    4. Contradiction, this suffices to show $\\neg (\\neg A \\land \\neg B)$\n",
        "\n",
        "This suffices to show the lemma 2.1"
      ]
    },
    {
      "cell_type": "markdown",
      "metadata": {},
      "source": [
        "Proof of lemma 2.2, $\\neg (\\neg A \\land \\neg B) \\implies A \\lor B$\n",
        "\n",
        "1. Suppose, $\\neg (\\neg A \\land \\neg B)$\n",
        "2. Proof that $\\neg A \\implies B$\n",
        "    1. Suppose $\\neg A$\n",
        "    2. $\\neg (\\text{True} \\land \\neg B)$, by 1, 2.1\n",
        "    3. $\\neg \\neg B$\n",
        "    4. $B$\n",
        "4. Proof that $A \\lor B$ by cases on $A$\n",
        "    1. Case 1:\n",
        "        1. suppose $A$\n",
        "        1. $A \\lor B$, by 4.1.1\n",
        "    2. Case 2: $\\neg A$\n",
        "        1. $B$, by 2, 4.2.1\n",
        "        2. $A \\lor B$, by 4.2.2\n",
        "    3. In both cases, $A \\lor B$\n",
        "\n",
        "This suffices to show lemma 2.2"
      ]
    },
    {
      "cell_type": "markdown",
      "metadata": {},
      "source": [
        "Lemma 2.1 and 2.2 suffice to show lemma 2, $A \\lor B \\equiv \\neg (\\neg A \\land \\neg B)$"
      ]
    },
    {
      "cell_type": "markdown",
      "metadata": {},
      "source": [
        "We have established that\n",
        "\n",
        "$(A \\land B) \\equiv \\neg (\\neg A \\lor \\neg B)$\n",
        "\n",
        "$A \\lor B \\equiv \\neg (\\neg A \\land \\neg B)$\n",
        "\n",
        "We now proceed to show:\n",
        "\n",
        "*Lemma 3*: $(A \\cap B)^C = A^C \\cup B^C$\n",
        "\n",
        "*Lemma 4*: $(A \\cup B)^C = A^C \\cap B^C$"
      ]
    },
    {
      "cell_type": "markdown",
      "metadata": {},
      "source": [
        "Proof of lemma 3, $(A \\cap B)^C = A^C \\cup B^C$\n",
        "\n",
        "1. Suppose, $x \\in (A \\cap B)^C$\n",
        "2. $\\equiv \\neg (x \\in (A \\cap B))$, by the definition of complement\n",
        "3. $\\equiv \\neg (x \\in A \\land x \\in B)$, by the definition of intersection\n",
        "4. $\\equiv \\neg x \\in A \\lor \\neg x \\in B$, by lemma 1\n",
        "5. $\\equiv x \\in A^C \\lor x \\in B^C$, by the definition of complement\n",
        "5. $\\equiv x \\in (A^C \\cup B^C)$, by the definition of union\n",
        "\n",
        "Therefore, \n",
        "\n",
        "$x \\in (A \\cap B)^C \\equiv x \\in (A^C \\cup B^C)$\n",
        "\n",
        "By the axiom of extensionality, this suffices to show lemma 3."
      ]
    },
    {
      "cell_type": "markdown",
      "metadata": {},
      "source": [
        "Proof of lemma 4, $(A \\cup B)^C = A^C \\cap B^C$\n",
        "\n",
        "1. Suppose, $x \\in (A \\cup B)^C$\n",
        "2. $\\equiv \\neg (x \\in (A \\cup B))$, by the definition of complement\n",
        "2. $\\equiv \\neg (x \\in A \\lor x \\in B)$, by the definition of union\n",
        "3. $\\equiv (\\neg x \\in A \\land \\neg x \\in B)$, by lemma 2\n",
        "4. $\\equiv (x \\in A^C \\land x \\in B^C)$, by the definition of complement\n",
        "5. $\\equiv x \\in (A^C \\cap B^C)$, by the definition of intersection\n",
        "\n",
        "Therefore, $x \\in (A \\cup B)^C \\equiv x \\in A^C \\cap B^C$.\n",
        "\n",
        "By the axiom of extensionality, this suffices to show lemma 4."
      ]
    },
    {
      "cell_type": "markdown",
      "metadata": {},
      "source": [
        "**Question 8**\n",
        "\n",
        "*A simplified model of the human blood-type system has four blood types: A, B, AB, and O. There are two antigens, anti-A and anti-B, that react with a person’s blood in different ways depending on the blood type. Anti- A reacts with blood types A and AB, but not with B and O. Anti-B reacts with blood types B and AB, but not with A and O. Suppose that a person’s blood is sampled and tested with the two antigens. Let A be the event that the blood reacts with anti-A, and let B be the event that it reacts with anti-B. Classify the person’s blood type using the events A, B, and their complements.*"
      ]
    },
    {
      "cell_type": "markdown",
      "metadata": {},
      "source": [
        "Let $A$, $B$, $AB$, and $O$ represent the events where the person has the corresponding blood type. Let $\\alpha$ represent the event that they respond to antigen A. Let $\\beta$ represent the event that they respond to antigen B.\n",
        "\n",
        "$A = \\alpha \\cap \\beta^C$\n",
        "\n",
        "$B = \\alpha^C \\cap \\beta$\n",
        "\n",
        "$AB = \\alpha \\cap \\beta$\n",
        "\n",
        "$O = \\alpha^C \\cap \\beta^C$"
      ]
    },
    {
      "cell_type": "markdown",
      "metadata": {},
      "source": [
        "**Question 11**\n",
        "\n",
        "*A power cell consists of two subcells, each of which can provide from 0 to 5 volts, regardless of what the other subcell provides. The power cell is functional if and only if the sum of the two voltages of the subcells is at least 6 volts. An experiment consists of measuring and recording the voltages of the two subcells. Let A be the event that the power cell is functional, let B be the event that two subcells have the same voltage, let C be the event that the first subcell has a strictly higher voltage than the second subcell, and let D be the event that the power cell is not functional but needs less than one additional volt to become functional.*"
      ]
    },
    {
      "cell_type": "markdown",
      "metadata": {},
      "source": [
        "**11 a)**\n",
        "\n",
        "$S = \\{(x, y) : x, y \\in [0, 5] \\}$\n",
        "\n",
        "$S$ is the set of 2-tuples where both elements are on the closed interval from 0 to 5.\n",
        "\n",
        "**11 b)**\n",
        "\n",
        "$A = \\{(x, y) : x + y \\ge 6\\} \\cap S$\n",
        "\n",
        "$B = \\{(x, y) : x = y\\} \\cap S$\n",
        "\n",
        "$C = \\{(x, y) : x > y\\} \\cap S$\n",
        "\n",
        "$D = \\{(x, y) : x + y > 5\\} \\cap S \\cap A^C$\n",
        "\n",
        "**11 c)**\n",
        "\n",
        "$\\{(x, y) : x = y \\land x + y \\le 5\\} = B \\cap A^C \\cap D^C$\n",
        "\n",
        "Membership in $B$ guarantees they are equal. Membership in $A^C$ guarantees they do not sum to less than 6. Membership in $D^C$ further ensures the sum is not greater than 5.\n",
        "\n",
        "**11 d)**\n",
        "\n",
        "$A^C \\cap B^C \\cap C^C$\n",
        "\n",
        "It doesn't work ($A^C$). They're not equal ($B^C$). The first is not larger ($C^C$)."
      ]
    },
    {
      "cell_type": "markdown",
      "metadata": {},
      "source": [
        "# Section 1.5"
      ]
    },
    {
      "cell_type": "markdown",
      "metadata": {},
      "source": [
        "**Question 4**\n",
        "\n",
        "*If the probability that student A will fail a certain statistics examination is 0.5, the probability that student B will fail the examination is 0.2, and the probability that both student A and student B will fail the examination is 0.1, what is the probability that at least one of these two students will fail the examination?*\n",
        "\n",
        "Let $A$ represent the event that student A fails the exam. Let $B$ represent the event that student B fails the exam.\n",
        "\n",
        "We have that:\n",
        "\n",
        "$P(A) = 0.5$\n",
        "\n",
        "$P(B) = 0.2$\n",
        "\n",
        "$P(A \\cap B) = 0.1$\n",
        "\n",
        "$P(A \\cup B) = P(A) + P(B) - P(A \\cap B) = 0.5 + 0.2 - 0.1 = 0.6$"
      ]
    },
    {
      "cell_type": "markdown",
      "metadata": {},
      "source": [
        "**Question 5** *For the conditions of Exercise 4, what is the probability that neither student A nor student B will fail the examination?*\n",
        "\n",
        "$A$ is the event where student A fails the exam. $B$ is the event where student B fails the exam. So, $A^C$ and $B^C$ are the events where student A and B pass the exam, respectively. $A^C \\cap B^C$ is the event where neither student A nor student B fails the exam.\n",
        "\n",
        "- $P(A^C \\cap B^C)$\n",
        "- $= P((A \\cup B)^C)$\n",
        "- $ = 1 - P(A \\cup B)$\n",
        "- $= 0.4$"
      ]
    },
    {
      "cell_type": "markdown",
      "metadata": {},
      "source": [
        "**Question 6** *For the conditions of Exercise 4, what is the probability and that that exactly one of the two students will fail the examination?*\n",
        "\n",
        "$P((A \\cup B) \\cap (A \\cap B)^C) = P(A \\cup B) - P(A \\cap B) = 0.5$\n",
        "\n",
        "This works because $P(A \\cap B) \\subset P(A \\cup B)$"
      ]
    },
    {
      "cell_type": "markdown",
      "metadata": {},
      "source": [
        "**Question 11**\n",
        "\n",
        "*A point $(x, y)$ is to be selected from the square $S$ containing all points $(x, y)$ such that $0 ≤ x ≤ 1$ and $0 ≤ y ≤ 1$. Suppose that the probability that the selected point will belong to each specified subset of $S$ is equal to the area of that subset. Find the probability of each of the following subsets:*"
      ]
    },
    {
      "cell_type": "markdown",
      "metadata": {},
      "source": [
        "**(a)** *the subset of points such that $(x − {1 \\over 2} )^2 + (y − {1 \\over 2})^2 ≥ {1 \\over 4}$*\n",
        "\n",
        "Since every point is equally likely, this is asking us to find the region of the unit square outside of a circle of radius 0.5 centered at (0.5, 0.5).\n",
        "\n",
        "As faceplant insurance, we plot the region below."
      ]
    },
    {
      "cell_type": "code",
      "execution_count": 1,
      "metadata": {},
      "outputs": [],
      "source": [
        "import numpy as np\n",
        "import matplotlib.pyplot as plt\n",
        "\n",
        "density=1000\n",
        "\n",
        "x, y = np.meshgrid(np.linspace(0, 1, density), np.linspace(0, 1, density))\n",
        "x = x.flatten()\n",
        "y = y.flatten()\n",
        "\n",
        "def plot_condition(condition):\n",
        "    plt.figure(figsize=(4, 4))\n",
        "    plt.scatter(x[condition], y[condition])\n",
        "    plt.ylabel(\"Y\")\n",
        "    plt.xlabel(\"X\")\n",
        "    plt.xlim([x.min(), x.max()])\n",
        "    plt.ylim([y.min(), y.max()])\n",
        "    plt.title(\"Region where condition holds\")\n",
        "    plt.show()"
      ]
    },
    {
      "cell_type": "code",
      "execution_count": 2,
      "metadata": {},
      "outputs": [
        {
          "data": {
            "image/png": "[encoded data removed]",
            "text/plain": [
              "<Figure size 288x288 with 1 Axes>"
            ]
          },
          "metadata": {
            "needs_background": "light"
          },
          "output_type": "display_data"
        }
      ],
      "source": [
        "condition_a = (x - 0.5)**2 + (y - 0.5)**2 >= 0.25\n",
        "plot_condition(condition_a)"
      ]
    },
    {
      "cell_type": "markdown",
      "metadata": {},
      "source": [
        "The area of the unit square is 1, and the area of a circle with radius 1/2 is $\\pi r^2 = \\pi / 4$. So, the answer is $1 - \\pi / 4$.\n",
        "\n",
        "Technically, it's asking us for the region where $(x − {1 \\over 2} )^2 + (y − {1 \\over 2})^2$ is greater than *or equal to* $1/4$, and we have calculated the size of the region where it is strictly greater. However, this doesn't matter as the region where $(x − {1 \\over 2} )^2 + (y − {1 \\over 2})^2 = {1 \\over 4}$ is 2-dimensional, and its is zero.\n",
        "\n",
        "Let's confirm numerically as a sanity check."
      ]
    },
    {
      "cell_type": "code",
      "execution_count": 3,
      "metadata": {},
      "outputs": [
        {
          "name": "stdout",
          "output_type": "stream",
          "text": [
            "Analytical result: 0.21460183660255172\n",
            "Numerical result: 0.216236\n"
          ]
        }
      ],
      "source": [
        "from math import pi\n",
        "\n",
        "print(\"Analytical result:\", 1 - pi/4)\n",
        "print(\"Numerical result:\", condition_a.mean())"
      ]
    },
    {
      "cell_type": "markdown",
      "metadata": {},
      "source": [
        "**(b)** *the subset of points such that ${1 \\over 2} < x + y < {3 \\over 2}$*\n",
        "\n",
        "Again, we need to find the area of the subset of the unit square where this condition holds.\n",
        "\n",
        "Solve for equality on the left side:\n",
        "\n",
        "- $x + y = {1 \\over 2}$\n",
        "- $y = -x + {1 \\over 2}$\n",
        "- It's a line with slope -1 and intercept 1/2. It's going to exclude the region with vertices $(0, 0)$, $(0, 0.5)$, $(0.5, 0)$. By the formula for area of a triangle, this region has area ${1 \\over 2}wh = {1 \\over 2}^3 = {1 \\over 8}$.\n",
        "\n",
        "Solve for equality on the right side:\n",
        "\n",
        "- $x + y = {3 \\over 2}$\n",
        "- $y = -x + {3 \\over 2}$\n",
        "- It intersects the x-axis out of the bounds of the unit square. It'll intersect with the sides of the square when $y = 1$ and $x = 1$.\n",
        "\n",
        "Intersection with top\n",
        "\n",
        "$1 = -x + {3 \\over 2} \\\\\n",
        "x = {1 \\over 2}$\n",
        "\n",
        "Intersection with side\n",
        "\n",
        "$y = -1 + {3 \\over 2} \\\\\n",
        "y = {1 \\over 2}$\n",
        "\n",
        "So, it will cut out the bottom left and top right corners of the unit square.\n",
        "\n",
        "We could calculate the areas of these triangles, but if you can image fitting them together along the hypotenuse, you would end up with a 1/2 by 1/2 square. So, the area excluded is 1/4. So, the answer is 1 - 1/4 = 3/4."
      ]
    },
    {
      "cell_type": "code",
      "execution_count": 4,
      "metadata": {},
      "outputs": [
        {
          "data": {
            "image/png": "[encoded data removed]",
            "text/plain": [
              "<Figure size 288x288 with 1 Axes>"
            ]
          },
          "metadata": {
            "needs_background": "light"
          },
          "output_type": "display_data"
        }
      ],
      "source": [
        "condition_b = (0.5 < x + y) & (x + y < 1.5)\n",
        "plot_condition(condition_b)"
      ]
    },
    {
      "cell_type": "code",
      "execution_count": 5,
      "metadata": {},
      "outputs": [
        {
          "name": "stdout",
          "output_type": "stream",
          "text": [
            "Analytical result: 0.75\n",
            "Numerical result: 0.7495\n"
          ]
        }
      ],
      "source": [
        "print(\"Analytical result:\", 3/4)\n",
        "print(\"Numerical result:\", condition_b.mean())"
      ]
    },
    {
      "cell_type": "markdown",
      "metadata": {},
      "source": [
        "**(c)** *the subset of points such that $y≤1−x^2$*\n",
        "\n",
        "This shape is hard to describe, so we'll plot it first."
      ]
    },
    {
      "cell_type": "code",
      "execution_count": 6,
      "metadata": {},
      "outputs": [
        {
          "data": {
            "image/png": "[encoded data removed]",
            "text/plain": [
              "<Figure size 288x288 with 1 Axes>"
            ]
          },
          "metadata": {
            "needs_background": "light"
          },
          "output_type": "display_data"
        }
      ],
      "source": [
        "condition_c = y <= 1 - x**2\n",
        "plot_condition(condition_c)"
      ]
    },
    {
      "cell_type": "markdown",
      "metadata": {},
      "source": [
        "We don't have a nice formula for the area of the one, but conveniently it's asking us for the area of a region below a function of $x$. So, we only have to do one integral.\n",
        "\n",
        "$\\int 1 - x^2 dx \\\\\n",
        "= \\int dx - \\int x^2 dx \\\\\n",
        "= x - {x^3 \\over 3} + C$\n",
        "\n",
        "So,\n",
        "$\\int_0^1 1 - x^2 dx \\\\\n",
        "= (1 - {1^3 \\over 3}) - (0 - {0^3 \\over 3})\n",
        "= {2 \\over 3}$\n",
        "\n",
        "The answer is 2/3."
      ]
    },
    {
      "cell_type": "code",
      "execution_count": 7,
      "metadata": {},
      "outputs": [
        {
          "name": "stdout",
          "output_type": "stream",
          "text": [
            "Analytical result: 0.6666666666666666\n",
            "Numerical result: 0.666302\n"
          ]
        }
      ],
      "source": [
        "print(\"Analytical result:\", 2/3)\n",
        "print(\"Numerical result:\", condition_c.mean())"
      ]
    },
    {
      "cell_type": "markdown",
      "metadata": {},
      "source": [
        "**(d)** *the subset of points such that $x = y$*\n",
        "\n",
        "This is a line. The area of a line is zero. The answer is zero."
      ]
    },
    {
      "cell_type": "markdown",
      "metadata": {},
      "source": [
        "# Section 1.6"
      ]
    },
    {
      "cell_type": "markdown",
      "metadata": {},
      "source": [
        "**Question 2** *If two balanced dice are rolled, what is the probability that the sum of the two numbers that appear will be even?*"
      ]
    },
    {
      "cell_type": "markdown",
      "metadata": {},
      "source": [
        "The two dice rolls are independent, and each will be an integer between 1 and 6 (we use the notation $\\{1...6\\}$). So, the sample space will be $S = \\{(i, j) : i, j \\in \\{1...6\\}\\}$.\n",
        "\n",
        "This is a simple sample space. There are a finite number of possible outcomes, and each is equally likely. The total number of possible outcomes, $|S|$, is equal to 36, because each of $i$ and $j$ can take on 6 possible values.\n",
        "\n",
        "The sum of the two numbers of will be even if and only if either both $i$ and $j$ are even, of if they are both odd. Call this event $S_E$.\n",
        "- There are 9 ways they could be both even, because there are 3 ways for $i$ to be even and 3 ways for $j$ to be even. Call this event $S_e$.\n",
        "- There are 9 ways they could be both odd, because there are 3 ways for $i$ to be odd and 3 ways for $j$ to be odd. Call this event $S_o$.\n",
        "\n",
        "$S_e = S_e \\cup S_o$ because if one number were even and the other were odd, then the sum would be odd.\n",
        "\n",
        "$S_e$ and $S_o$ are disjoint, because the numbers being even and odd are mutually exclusive. So, by finite additivity, $|S_e \\cup S_o| = |S_e| + |S_o|$. So, $|S_E| = 18$.\n",
        "\n",
        "So, by the properties of simple sample spaces, $P(S_E) = {|S_E| \\over 36} = {1 \\over 2}$.\n",
        "\n",
        "The answer is ${1 \\over 2}$."
      ]
    },
    {
      "cell_type": "markdown",
      "metadata": {},
      "source": [
        "**Question 3** *If two balanced dice are rolled, what is the probability that the difference between the two numbers that appear will be less than 3?*\n",
        "\n",
        "The question is probably asking for the probability that the value of the first die, $i$, minus the value of the second die, $j$, is less than 3. Call this event $S_A$ It's actually easier to count the number of ways that $i - j \\ge 3$, so we'll start with that.\n",
        "\n",
        "We note that because $i$ and $i$ are both on $\\{1...6\\}$, the maximum difference is 5. So, there are three ways for $i - j \\ge 3$; it can be 3, 4, or 5.\n",
        "- There is one way for the difference to be 5: $(6, 1)$\n",
        "- There are two ways for the difference to be 4: $(5, 1)$ and $(6, 2)$\n",
        "- There are three ways for the difference to be 3: $(4, 1)$, $(5, 2)$, and $(6, 3)$\n",
        "\n",
        "So, there are six outcomes where $i - j \\ge 3$. So, $|S_A^C| = 6$. As established previously, there are 36 possible outcomes. So, $|S_A| = 36 - 6 = 30$.\n",
        "\n",
        "As this is a simple sample space, $P(S_A) = {30 \\over 36} = {5 \\over 6}$.\n",
        "\n",
        "The answer is ${5 \\over 6}$."
      ]
    },
    {
      "cell_type": "code",
      "execution_count": 5,
      "metadata": {},
      "outputs": [
        {
          "name": "stdout",
          "output_type": "stream",
          "text": [
            "0.8333333333333334 0.6666666666666666\n",
            "0.833241 0.666427\n"
          ]
        }
      ],
      "source": [
        "from random import randint\n",
        "\n",
        "def roll_dice(n):\n",
        "    return [randint(1,6) for _ in range(n)]\n",
        "\n",
        "s_1 = 0\n",
        "s_2 = 0\n",
        "n = 1000000\n",
        "for _ in range(n):\n",
        "    a, b = roll_dice(2)\n",
        "    diff = a - b\n",
        "    if diff < 3:\n",
        "        s_1 += 1\n",
        "    if abs(diff) < 3:\n",
        "        s_2 += 1\n",
        "\n",
        "print(5/6, 2/3)\n",
        "print(s_1/n, s_2/n)"
      ]
    },
    {
      "cell_type": "markdown",
      "metadata": {},
      "source": [
        "**Question 4** *A school contains students in grades 1, 2, 3, 4, 5, and 6. Grades 2, 3, 4, 5, and 6 all contain the same number of students, but there are twice this number in grade 1. If a student is selected at random from a list of all the students in the school, what is the probability that she will be in grade 3?*\n",
        "\n"
      ]
    },
    {
      "cell_type": "markdown",
      "metadata": {},
      "source": [
        "For this problem, the sample space is $S = \\{1...6\\}$. Since we are selecting a student randomly, the probability that a student is selected from a given grade is proportional to the number of students in that grade. Let $P(6) = x$.\n",
        "\n",
        "Then,\n",
        "- $P(i) = x$, for $i \\in \\{2...6\\}$\n",
        "- $P(1) = 2x$\n",
        "\n",
        "Since $P$ is a probability measure, we have that the sum of all probabilities is 1. So, $7x = 1$ and $x = {1 \\over 7}$.\n",
        "\n",
        "The probability that a student is selected from grade 3 is $P(3) = x = {1 \\over 7}$."
      ]
    },
    {
      "cell_type": "markdown",
      "metadata": {},
      "source": [
        "**Question 5** *For the conditions of Exercise 4, what is the probability that the selected student will be in an odd-numbered grade?*\n",
        "\n",
        "Call the event where a student is in an odd numbered grade $S_O$. The student will be in an odd numbered grade if they are in grade 1, 3, or 5. These are disjoint outcomes, so by finite additivity, we can sum the probabilities of each of these outcomes.\n",
        "\n",
        "The answer is,\n",
        "\n",
        "$P(S_O) = 2x + x + x = 4x = {4 \\over 7}$"
      ]
    },
    {
      "cell_type": "markdown",
      "metadata": {},
      "source": []
    }
  ],
  "metadata": {
    "kernelspec": {
      "display_name": "Python 3",
      "language": "python",
      "name": "python3"
    },
    "language_info": {
      "codemirror_mode": {
        "name": "ipython",
        "version": 3
      },
      "file_extension": ".py",
      "mimetype": "text/x-python",
      "name": "python",
      "nbconvert_exporter": "python",
      "pygments_lexer": "ipython3",
      "version": "3.12.5"
    }
  },
  "nbformat": 4,
  "nbformat_minor": 2
}
