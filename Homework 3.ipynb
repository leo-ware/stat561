{
 "cells": [
  {
   "cell_type": "markdown",
   "metadata": {},
   "source": [
    "# Chapter 2.1"
   ]
  },
  {
   "cell_type": "markdown",
   "metadata": {},
   "source": [
    "**2. If A and B are disjoint events and Pr(B) > 0, what is\n",
    "the value of Pr(A|B)?**\n",
    "\n",
    "If $A$ and $B$ are disjoint, then $P(A \\cap B) = 0$.\n",
    "\n",
    "When $P(B) \\ne 0$,\n",
    "\n",
    "$P(A | B) = {P(A \\cap B) \\over P(B)} = 0$"
   ]
  },
  {
   "cell_type": "markdown",
   "metadata": {},
   "source": [
    "**6. A box contains three cards. One card is red on both sides, one card is green on both sides, and one card is red on one side and green on the other. One card is selected from the box at random, and the color on one side is observed. If this side is green, what is the probability that the other side of the card is also green?**\n",
    "\n",
    "Card $R$ is red. Card $G$ is green. Card $B$ is red on one side and green on the other. We draw a random card and observe one face randomly, call this event $g$.\n",
    "\n",
    "Prior probabilities,\n",
    "\n",
    "$$P(R) = P(G) = P(B) = 1/3$$\n",
    "\n",
    "Likelihoods,\n",
    "\n",
    "$$P(g| R) = 0$$\n",
    "$$P(g| G) = 1$$\n",
    "$$P(g | B) = 1/2$$\n",
    "\n",
    "Update,\n",
    "\n",
    "$$P(G | g) = {P(g | G) P(G) \\over P(g | G) P(G) + P(g | B) P(B) + P(g | R) P(R) }$$\n",
    "\n",
    "$$= {1 * 1/3 \\over 1 * 1/3 + 1/2 * 1/3 + 0 }$$\n",
    "$$= {{1 \\over 3} \\over {1 \\over 3} + {1 \\over 6}}$$\n",
    "$$= {2 \\over 3}$$"
   ]
  },
  {
   "cell_type": "markdown",
   "metadata": {},
   "source": [
    "**8. Consider again the conditions of Exercise 2 of ec.1.10. If a family selected at random from the city subscribes to at least one of the three newspapers A, B, and C, what is the probability that the family subscribes to newspaper A?**\n",
    "\n",
    "$P(A) = 0.6$\n",
    "\n",
    "$P(B) = 0.4$\n",
    "\n",
    "$P(C) = 0.3$\n",
    "\n",
    "$P(A \\cap B) = 0.2$\n",
    "\n",
    "$P(A \\cap C) = 0.1$\n",
    "\n",
    "$P(B \\cap C) = 0.2$\n",
    "\n",
    "$P(A \\cap B \\cap C) = 0.05$\n",
    "\n",
    "By the inclusion-exclusion principle,\n",
    "\n",
    "$P(A \\cup B \\cup C)$\n",
    "\n",
    "$= P(A) + P(B) + P(C) - P(A \\cap B) - P(A \\cap C) - P(B \\cap C) + P(A \\cap B \\cap C)$\n",
    "\n",
    "$= 0.6 + 0.4 + 0.3 - 0.2 - 0.1 - 0.2 + 0.05$\n",
    "\n",
    "$= 0.85$\n",
    "\n",
    "$P(A | A \\cup B \\cup C) = {P(A \\cap (A \\cup B \\cup C))\\over P(A \\cup B \\cup C)}$\n",
    "\n",
    "$= {P(A) \\over P(A \\cup B \\cup C)}$\n",
    "\n",
    "$= {0.6 \\over 0.85} \\approx 0.70588235294$"
   ]
  },
  {
   "cell_type": "markdown",
   "metadata": {},
   "source": [
    "**9. Suppose that a box contains one blue card and four red cards, which are labeled A, B, C, and D. Suppose also that two of these five cards are selected at random, without replacement.**\n",
    "\n",
    "**a. If it is known that card A has been selected, what is the probability that both cards are red?**\n",
    "\n",
    "After $A$ has been selected, there are four remaining cards, of which three are red. So, the probability is $\\frac{3}{4}$.\n",
    "\n",
    "**b. If it is known that at least one red card has been selected, what is the probability that both cards are red?**\n",
    "\n",
    "After the first red card is selected, there are four remaining cards, of which three are red. So, the probability is $\\frac{3}{4}$."
   ]
  },
  {
   "cell_type": "markdown",
   "metadata": {},
   "source": [
    "**13. A box contains three coins with a head on each side, four coins with a tail on each side, and two fair coins. If one of these nine coins is selected at random and tossed once, what is the probability that a head will be obtained?**\n",
    "\n",
    "Call the events where the heads coin, tails coin, and fair coin are selected as $H$, $T$, and $F$, respectively. Call the event that a head is obtained $h$.\n",
    "\n",
    "$P(H) = {3 \\over 9}$\n",
    "\n",
    "$P(T) = {4 \\over 9}$\n",
    "\n",
    "$P(F) = {2 \\over 9}$\n",
    "\n",
    "$P(h | H) = 1$\n",
    "\n",
    "$P(h | T) = 0$\n",
    "\n",
    "$P(h | F) = {1\\over 2}$\n",
    "\n",
    "$$P(h) = P(H)P(h | H) + P(T)P(h | T) + P(F)P(h | F)$$\n",
    "\n",
    "$$= {3 \\over 9} + 0 + {2 \\over 9}{1\\over 2}$$\n",
    "\n",
    "$$= {4 \\over 9}$$"
   ]
  },
  {
   "cell_type": "markdown",
   "metadata": {},
   "source": [
    "**14. A machine produces defective parts with three different probabilities depending on its state of repair. If the machine is in good working order, it produces defective parts with probability 0.02. If it is wearing down, it produces defective parts with probability 0.1. If it needs maintenance, it produces defective parts with probability 0.3. The probability that the machine is in good working order is 0.8, the probability that it is wearing down is 0.1, and the probability that it needs maintenance is 0.1. Compute the probability that a randomly selected part will be defective.**\n",
    "\n",
    "Call the working, wearing down, and maintenance states $H, M, L$ respectively. Call the event that it produces a defective part $D$.\n",
    "\n",
    "Then,\n",
    "\n",
    "$P(H) = 0.8$\n",
    "\n",
    "$P(M) = 0.1$\n",
    "\n",
    "$P(L) = 0.1$\n",
    "\n",
    "$P(D | H) = 0.02$\n",
    "\n",
    "$P(D | M) = 0.1$\n",
    "\n",
    "$P(D | L) = 0.3$\n",
    "\n",
    "$$\n",
    "P(D) = P(D | H)P(H) + P(D | M)P(M) + P(D | L)P(L)\n",
    "$$\n",
    "\n",
    "$$\n",
    "= 0.02* 0.8 + 0.1 * 0.1 + 0.3 * 0.1\n",
    "$$\n",
    "\n",
    "$$\n",
    "= 0.056\n",
    "$$"
   ]
  },
  {
   "cell_type": "markdown",
   "metadata": {},
   "source": [
    "# Chapter 2.2"
   ]
  },
  {
   "cell_type": "markdown",
   "metadata": {},
   "source": [
    "**4. Suppose that a person rolls two balanced dice three times in succession. Determine the probability that on each of the three rolls, the sum of the two numbers that appear will be 7.**\n",
    "\n",
    "When two dice are rolled, there are 36 possible outcomes. There are six ways to get a sum of 7 ($(1, 6), (2, 5)...(6, 1)$). So, the probability of rolling a sum of 7 is 6/36 = 1/6.\n",
    "\n",
    "Each of the three times is independent, so the intersection of the events is equal to the product of the probabilities. So, the probability of rolling a sum of 7 three times in a row is $(1/6)^3 = 1/216 \\approx 0.00462962962$."
   ]
  },
  {
   "cell_type": "markdown",
   "metadata": {},
   "source": [
    "**7. Two students A and B are both registered for a certain course. Assume that student A attends class 80 percent of the time, student B attends class 60 percent of the time, and the absences of the two students are independent.**\n",
    "\n",
    "**a. What is the probability that at least one of the two students will be in class on a given day?**\n",
    "\n",
    "$$P(A \\cap B) = P(A)P(B) = 0.8*0.6 = 0.48$$\n",
    "$$P(A \\cup B) = P(A) + P(B) - P(A \\cap B) = 0.8 + 0.6 - 0.48 = 0.92$$\n",
    "\n",
    "**b. If at least one of the two students is in class on a given day, what is the probability that A is in class that day?**\n",
    "\n",
    "$P(A | A\\cup B) = {P(A \\cap (A \\cup B)) \\over P(A \\cup B)}$\n",
    "\n",
    "$= {P(A) \\over P(A \\cup B)}$\n",
    "\n",
    "$= {0.8 \\over 0.92} \\approx 0.86956521739$"
   ]
  },
  {
   "cell_type": "markdown",
   "metadata": {},
   "source": []
  }
 ],
 "metadata": {
  "language_info": {
   "name": "python"
  }
 },
 "nbformat": 4,
 "nbformat_minor": 2
}
