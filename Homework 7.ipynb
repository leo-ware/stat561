{
 "cells": [
  {
   "cell_type": "markdown",
   "metadata": {},
   "source": [
    "# Chapter 4.1"
   ]
  },
  {
   "cell_type": "markdown",
   "metadata": {},
   "source": [
    "3. In a class of 50 students, the number of students $n_i$ of each age $i$ is shown in the following table. If a student is to be selected at random from the class, what is the expected value of his age?\n",
    "\n",
    "| Age $i$ | Number of students $n_i$ |\n",
    "|---------|-------------------------|\n",
    "| 18       | 20                      |\n",
    "| 19       | 22                      |\n",
    "| 20       | 4                      |\n",
    "| 21       | 3                       |\n",
    "| 25       | 1                      |"
   ]
  },
  {
   "cell_type": "markdown",
   "metadata": {},
   "source": [
    "$P(18) = \\frac{20}{50} = 0.4$\n",
    "\n",
    "$P(19) = \\frac{22}{50} = 0.44$\n",
    "\n",
    "$P(20) = \\frac{4}{50} = 0.08$\n",
    "\n",
    "$P(21) = \\frac{3}{50} = 0.06$\n",
    "\n",
    "$P(25) = \\frac{1}{50} = 0.02$\n",
    "\n",
    "$E(X) = 18(0.4) + 19(0.44) + 20(0.08) + 21(0.06) + 25(0.02) = 18.92$"
   ]
  },
  {
   "cell_type": "markdown",
   "metadata": {},
   "source": [
    "6. Suppose that a random variable X has a continuous distribution with the p.d.f. f given in Example 4.1.6. Find the expectation of 1/X.\n",
    "\n",
    "$$\n",
    "f(x) = \\begin{cases}\n",
    "2x & 0 \\le x \\le 1 \\\\\n",
    "0 & \\text{otherwise}\n",
    "\\end{cases}\n",
    "$$"
   ]
  },
  {
   "cell_type": "markdown",
   "metadata": {},
   "source": [
    "$$E[1/x] = \\int_{0}^{1} \\frac{1}{x} \\cdot 2x dx = \\int_{0}^{1} 2 dx = 2$$"
   ]
  },
  {
   "cell_type": "markdown",
   "metadata": {},
   "source": [
    "9. Suppose that a point is chosen at random on a stick of unit length and that the stick is broken into two pieces at that point. Find the expected value of the length of the longer piece."
   ]
  },
  {
   "cell_type": "markdown",
   "metadata": {},
   "source": [
    "We'll consider the case where the first half is the longer half. This happens if and only if the point of breakage, $x$, is in the interval $[0.5, 1]$. In fact, $x$ will be uniformly distributed on this interval. The length of the longer piece is $x$, and the expected value of $x$ is ${3 \\over 4}$.\n",
    "\n",
    "By symmetry, the expected length of the longer piece is the same if we consider the case where the second half is the longer piece. Therefore, the expected length of the longer piece is ${3 \\over 4}$."
   ]
  },
  {
   "cell_type": "markdown",
   "metadata": {},
   "source": [
    "# Chapter 4.2"
   ]
  },
  {
   "cell_type": "markdown",
   "metadata": {},
   "source": [
    "2. Suppose that three random variables $X_1$, $X_2$, $X_3$ form a random sample from a distribution for which the meanis 5. Determine the value of $E(2X_1− 3X_2 + X_3− 4)$"
   ]
  },
  {
   "cell_type": "markdown",
   "metadata": {},
   "source": [
    "Expectation distributes over linear combinations.\n",
    "\n",
    "$E(2X_1 - 3X_2 + X_3 - 4)$\n",
    "\n",
    "$= 2E(X_1) - 3E(X_2) + E(X_3) - 4$\n",
    "\n",
    "$= 2(5) - 3(5) + 5 - 4$\n",
    "\n",
    "$= -4$"
   ]
  },
  {
   "cell_type": "markdown",
   "metadata": {},
   "source": [
    "4. Suppose that the random variable $X$ has the uniform distribution on the interval $[0, 1]$, that the random variable $Y$ has the uniform distribution on the interval $[5, 9]$, and that $X$ and $Y$ are independent. Suppose also that a rectangle is to be constructed for which the lengths of two adjacent sides are $X$ and $Y$. Determine the expected value of the area of the rectangle."
   ]
  },
  {
   "cell_type": "markdown",
   "metadata": {},
   "source": [
    "The area of the rectangle is $XY$. Since, $X$ and $Y$ are independent, $E[XY] = E[X]E[Y]$.\n",
    "\n",
    "$E[X] = \\frac{1}{2}$\n",
    "\n",
    "$E[Y] = 7$\n",
    "\n",
    "$E[XY] = 7{1\\over2} = 3.5$"
   ]
  },
  {
   "cell_type": "markdown",
   "metadata": {},
   "source": [
    "8. Suppose that a class contains 10 boys and 15 girls, and suppose that eight students are to be selected at random from the class without replacement. Let $X$ denote the number of boys that are selected, and let $Y$ denote the number of girls that are selected. Find $E(X− Y)$."
   ]
  },
  {
   "cell_type": "markdown",
   "metadata": {},
   "source": [
    "$Y = 8 - X$\n",
    "\n",
    "$X - Y = X - (8 - X) = 2X - 8$\n",
    "\n",
    "So, we need to find $E[X]$\n",
    "\n",
    "- Ways to choose 8 students: ${25 \\choose 8}$\n",
    "- Ways to choose $x$ boys: ${10 \\choose x}$\n",
    "- Ways to choose $8 - x$ girls: ${15 \\choose 8 - x}$\n",
    "\n",
    "$P(X = x)$\n",
    "\n",
    "$= P(Y = 8 - x)$\n",
    "\n",
    "$= {{15 \\choose 8 - x}{10 \\choose x} \\over {25 \\choose 8}}$\n",
    "\n",
    "$= {{15! \\over (8 - x)!(15 - (8 - x))!} {10! \\over x!(10 - x)!} \\over {25! \\over 8!(25 - 8)!}}$\n",
    "\n",
    "$= {15!10!8!(25 - 8)! \\over (8 - x)!(15 - (8 - x))!x!(10 - x)!25!}$\n",
    "\n",
    "$= {15!10!8!17! \\over (8 - x)!(7 + x)!x!(10 - x)!25!}$"
   ]
  },
  {
   "cell_type": "markdown",
   "metadata": {},
   "source": [
    "| x | P(X = x) |\n",
    "|---|----------|\n",
    "| 0 | 0.005950 |\n",
    "| 1 | 0.059497 |\n",
    "| 2 | 0.208238 |\n",
    "| 3 | 0.333181 |\n",
    "| 4 | 0.265030 |\n",
    "| 5 | 0.106012 |\n",
    "| 6 | 0.020387 |\n",
    "| 7 | 0.001664 |\n",
    "| 8 | 0.000042 |"
   ]
  },
  {
   "cell_type": "markdown",
   "metadata": {},
   "source": [
    "$E[X] = \\sum_{x=0}^{8} xP(X = x) = 3.19999$"
   ]
  },
  {
   "cell_type": "markdown",
   "metadata": {},
   "source": [
    "Expectation distributes over linear combinations, so\n",
    "\n",
    "$E[2X - 8]$\n",
    "\n",
    "$= 2E[X] - 8$\n",
    "\n",
    "$= 2(3.19999) - 8$\n",
    "\n",
    "$= -1.60002$"
   ]
  },
  {
   "cell_type": "markdown",
   "metadata": {},
   "source": [
    "This is the answer."
   ]
  },
  {
   "cell_type": "markdown",
   "metadata": {},
   "source": [
    "# Chapter 4.3"
   ]
  },
  {
   "cell_type": "markdown",
   "metadata": {},
   "source": [
    "2. Suppose that one word is selected at random from the sentence \"the girl put on her beautiful red hat\". If $X$ denotes the number of letters in the word that is selected, what is the value of $Var(X)$?"
   ]
  },
  {
   "cell_type": "markdown",
   "metadata": {},
   "source": [
    "Count letters in words.\n",
    "\n",
    "| Word | Letters |\n",
    "|------|---------|\n",
    "| the  | 3       |\n",
    "| girl | 4       |\n",
    "| put  | 3       |\n",
    "| on   | 2       |\n",
    "| her  | 3       |\n",
    "| beautiful | 9      |\n",
    "| red     | 3       |\n",
    "| hat     | 3       |\n",
    "\n",
    "\n",
    "Count words with this many letters.\n",
    "\n",
    "| x | word with this many letters | P(X = x) |\n",
    "|---|----------------------------|---------- |\n",
    "| 2 | on                         | 0.125      |\n",
    "| 3 | the, put, her, red, hat   | 0.625      |\n",
    "| 4 | girl                   | 0.125      |\n",
    "| 9 | beautiful                         | 0.125      |\n",
    "\n",
    "$E[X] = 2(0.125) + 3(0.625) + 4(0.125) + 9(0.125) = 3.75$"
   ]
  },
  {
   "cell_type": "markdown",
   "metadata": {},
   "source": [
    "5. Let $X$ be a random variable for which $E(X)= μ$ and $Var(X)= σ^2$, and let $c$ be an arbitrary constant. Show that,\n",
    "\n",
    "$E[(X− c)^2]= (μ− c)^2 + σ^2$"
   ]
  },
  {
   "cell_type": "markdown",
   "metadata": {},
   "source": [
    "Recalling the formula for variance, we get,\n",
    "\n",
    "$\\sigma^2 = Var(X)$\n",
    "\n",
    "$= E[(X - \\mu)^2]$\n",
    "\n",
    "$= E[X^2 -2\\mu X + \\mu^2]$\n",
    "\n",
    "$= E[X^2] - 2\\mu E[X] + \\mu^2$\n",
    "\n",
    "So,\n",
    "\n",
    "$\\sigma^2 = E[X^2] - 2\\mu E[X] + \\mu^2$\n",
    "\n",
    "$E[X^2] = \\sigma^2 + 2\\mu E[X] - \\mu^2$\n",
    "\n",
    "$E[X^2] = \\sigma^2 + 2\\mu^2 - \\mu^2$\n",
    "\n",
    "$E[X^2] = \\sigma^2 + \\mu^2$"
   ]
  },
  {
   "cell_type": "markdown",
   "metadata": {},
   "source": [
    "We now start with the expression,\n",
    "\n",
    "$E[(X - c)^2]$\n",
    "\n",
    "$= E[X^2 - 2cX + c^2]$\n",
    "\n",
    "$= E[X^2] - E[2cX] + E[c^2]$\n",
    "\n",
    "$= E[X^2] - 2cE[X] + c^2$\n",
    "\n",
    "$= E[X^2] - 2c\\mu + c^2$\n",
    "\n",
    "Substituting $E[X^2]$ with $\\sigma^2 + \\mu^2$, we get,\n",
    "\n",
    "$= \\sigma^2 + \\mu^2 - 2c\\mu + c^2$\n",
    "\n",
    "$= \\sigma^2 + (\\mu - c)^2$\n",
    "\n",
    "QED"
   ]
  },
  {
   "cell_type": "markdown",
   "metadata": {},
   "source": [
    "6. Suppose that $X$ and $Y$ are independent random variables whose variances exist and such that $E(X)= E(Y)$. Show that,\n",
    "\n",
    "$E[(X - Y)^2] = Var(X) + Var(Y)$"
   ]
  },
  {
   "cell_type": "markdown",
   "metadata": {},
   "source": [
    "We'll start from the right side of the equation.\n",
    "\n",
    "$Var(X) + Var(Y)$\n",
    "\n",
    "$= E[X^2] - E[X]^2 + E[Y^2] - E[Y]^2$\n",
    "\n",
    "Using the fact that they have the same mean,\n",
    "\n",
    "$= E[X^2] - 2E[X]E[Y] + E[Y^2]$\n",
    "\n",
    "They are independent, so,\n",
    "\n",
    "$= E[X^2] - 2E[XY] + E[Y^2]$\n",
    "\n",
    "Distributive property of expectation over linear functions,\n",
    "\n",
    "$= E[X^2 - 2XY + Y^2]$\n",
    "\n",
    "Factoring,\n",
    "\n",
    "$= E[(X - Y)^2]$\n",
    "\n",
    "QED"
   ]
  },
  {
   "cell_type": "markdown",
   "metadata": {},
   "source": []
  }
 ],
 "metadata": {
  "kernelspec": {
   "display_name": "venv",
   "language": "python",
   "name": "python3"
  },
  "language_info": {
   "codemirror_mode": {
    "name": "ipython",
    "version": 3
   },
   "file_extension": ".py",
   "mimetype": "text/x-python",
   "name": "python",
   "nbconvert_exporter": "python",
   "pygments_lexer": "ipython3",
   "version": "3.12.5"
  }
 },
 "nbformat": 4,
 "nbformat_minor": 2
}
