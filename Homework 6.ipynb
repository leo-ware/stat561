{
 "cells": [
  {
   "cell_type": "code",
   "execution_count": 1,
   "metadata": {},
   "outputs": [],
   "source": [
    "import numpy as np\n",
    "import matplotlib.pyplot as plt\n"
   ]
  },
  {
   "cell_type": "markdown",
   "metadata": {},
   "source": [
    "# Chapter 3.8"
   ]
  },
  {
   "cell_type": "markdown",
   "metadata": {},
   "source": [
    "2. **Suppose that a random variable $X$ can have each of the seven values−3,−2,−1, 0, 1, 2, 3 with equal probability. Determine the p.f. of $Y= X^2− X$.**"
   ]
  },
  {
   "cell_type": "code",
   "execution_count": 2,
   "metadata": {},
   "outputs": [
    {
     "data": {
      "image/png": "[encoded data removed]",
      "text/plain": [
       "<Figure size 400x350 with 1 Axes>"
      ]
     },
     "metadata": {},
     "output_type": "display_data"
    }
   ],
   "source": [
    "x = np.arange(-3, 3 + 1, 1)\n",
    "plt.figure(figsize=(4, 3.5))\n",
    "plt.plot(x, x**2 - x, \".\")\n",
    "plt.xlabel(\"$X$\")\n",
    "plt.ylabel(\"$Y$\")\n",
    "plt.show()"
   ]
  },
  {
   "cell_type": "markdown",
   "metadata": {},
   "source": [
    "$$\n",
    "|S(X)| = 7\n",
    "$$\n",
    "\n",
    "$$\n",
    "P(X = x) = \\frac{1}{7} \\text{ for } x \\in S(X)\n",
    "$$\n",
    "\n",
    "Map from $X$ to $Y$\n",
    "\n",
    "| $X$ | $Y$ |\n",
    "|---|---|\n",
    "| -3 | 12 |\n",
    "| -2 | 6 |\n",
    "| -1 | 2 |\n",
    "| 0 | 0 |\n",
    "| 1 | 0 |\n",
    "| 2 | 2 |\n",
    "| 3 | 6 |\n",
    "\n",
    "Map from $Y$ to $X$\n",
    "\n",
    "| $Y$ | $X$ | $P(Y = y)$\n",
    "|---|---|---|\n",
    "| 12 | -3 | $P(X \\in \\{-3\\}) = {1 \\over 7}$ |\n",
    "| 6 | -2, 3 | $P(X \\in \\{-2, 3\\}) = {2 \\over 7}$ |\n",
    "| 2 | -1, 2 | $P(X \\in \\{-1, 2\\}) = {2 \\over 7}$ |\n",
    "| 0 | 0, 1 | $P(X \\in \\{0, 1\\}) = {2 \\over 7}$ |\n",
    "\n",
    "$$\n",
    "P(Y = y) = \\begin{cases}\n",
    "{2 \\over 7} & y \\in \\{6, 2, 0\\} \\\\\n",
    "{1 \\over 7} & y \\in \\{12\\} \\\\\n",
    "0 & \\text{otherwise}\n",
    "\\end{cases}\n",
    "$$\n"
   ]
  },
  {
   "cell_type": "markdown",
   "metadata": {},
   "source": [
    "3. **Suppose that the p.d.f. of a random variable X is as follows. Also, suppose that $Y= X(2− X)$. Determine the c.d.f. and the p.d.f. of $Y$.**\n",
    "\n",
    "$$\n",
    "f(x) = \\begin{cases}\n",
    "\\frac{x}{2} & 0 \\lt x \\lt 2 \\\\\n",
    "0 & \\text{otherwise}\n",
    "\\end{cases}\n",
    "$$\n",
    "\n"
   ]
  },
  {
   "cell_type": "code",
   "execution_count": 3,
   "metadata": {},
   "outputs": [
    {
     "data": {
      "image/png": "[encoded data removed]",
      "text/plain": [
       "<Figure size 400x350 with 1 Axes>"
      ]
     },
     "metadata": {},
     "output_type": "display_data"
    }
   ],
   "source": [
    "x = np.linspace(0, 2, 100)\n",
    "y = x * (2 - x)\n",
    "\n",
    "plt.figure(figsize=(4, 3.5))\n",
    "plt.plot(x, y)\n",
    "plt.xlabel(\"$X$\")\n",
    "plt.ylabel(\"$Y$\")\n",
    "plt.show()"
   ]
  },
  {
   "cell_type": "markdown",
   "metadata": {},
   "source": [
    "Solve for optima of $Y$,\n",
    "\n",
    "$${dy \\over dx} = 2 - 2X$$\n",
    "\n",
    "$$2 - 2X = 0$$\n",
    "\n",
    "$$X = 1$$\n",
    "\n",
    "$X$ will achieve optima at critical points and bounds, so $X \\in \\{0, 1, 2\\}$.\n",
    "\n",
    "| $X$ | $Y$ |\n",
    "|---|---|\n",
    "| 0 | 0 |\n",
    "| 1 | 1 |\n",
    "| 2 | 0 |\n",
    "\n",
    "So, $Y$ is on the closed interval $[0, 1]$. Additionally, $Y$ is monotonic with respect to $X$ on $X \\in [0, 1]$ and $X \\in [1, 2]$.\n"
   ]
  },
  {
   "cell_type": "markdown",
   "metadata": {},
   "source": [
    "$$\n",
    "P(X \\in [0, 1]) = \\int_0^1 \\frac{x}{2} dx = \\frac{1}{4}\n",
    "$$\n",
    "\n",
    "$$\n",
    "P(X \\in [1, 2]) = \\int_1^2 \\frac{x}{2} dx = \\frac{3}{4}\n",
    "$$\n"
   ]
  },
  {
   "cell_type": "markdown",
   "metadata": {},
   "source": [
    "Let $g$ s.t.,\n",
    "\n",
    "$$\n",
    "Y = g(X) = X(2 - X)\n",
    "$$\n",
    "\n",
    "$$\n",
    "Y = 2X - X^2\n",
    "$$\n",
    "\n",
    "$$\n",
    "0 =  - X^2 + 2X - Y\n",
    "$$\n",
    "\n",
    "By the quadratic formula,\n",
    "\n",
    "$$\n",
    "X = {-2 \\pm \\sqrt{4 - 4Y} \\over -2}\n",
    "$$\n",
    "\n",
    "$$\n",
    "X = 1 \\pm {\\sqrt{4(1 - Y)} \\over -2}\n",
    "$$\n",
    "\n",
    "$$\n",
    "X = 1 \\pm \\sqrt{1 - Y}\n",
    "$$\n",
    "\n",
    "$Y$ is not 1:1 with $X$ on $X \\in [0, 2]$. However, $Y$ is 1:1 with $X$ on $X \\in [0, 1]$ and $X \\in [1, 2]$. So, we will need to break up the problem into subproblems on these intervals. On each of these intervals, $Y$ is monotonic and differentiable with respect to $X$, so we can use the change of variables formula.\n",
    "\n",
    "These are both closed intervals, so we will double-count $P(Y = 1)$, but this is ok because $P(Y)$ is continuous, so the probability of $Y$ taking on any point value, such as 1, is 0."
   ]
  },
  {
   "cell_type": "markdown",
   "metadata": {},
   "source": [
    "Let $h_{[0, 1]}$ and $h_{[1, 2]}$ be the inverses of $Y(X)$ on the intervals $X \\in [0, 1]$ and $X \\in [1, 2]$ respectively. We can get these by assuming the square root in the quadratic formula is positive and substituting $+$ and $-$ for $\\pm$ respectively..\n",
    "\n",
    "$$\n",
    "h_{[0, 1]}(Y) = 1 - (1 - Y)^{1 / 2}\n",
    "$$\n",
    "\n",
    "$$\n",
    "h_{[1, 2]}(Y) = 1 + (1 - Y)^{1 / 2}\n",
    "$$"
   ]
  },
  {
   "cell_type": "markdown",
   "metadata": {},
   "source": [
    "Derivatives,\n",
    "\n",
    "$$\n",
    "{d \\over dy} h_{[0, 1]}(y) = -{1 \\over 2}(1 - y)^{-1 / 2}\n",
    "$$\n",
    "\n",
    "$$\n",
    "{d \\over dy} h_{[1, 2]}(y) = {1 \\over 2}(1 - y)^{-1 / 2}\n",
    "$$\n"
   ]
  },
  {
   "cell_type": "markdown",
   "metadata": {},
   "source": [
    "$$\n",
    "P(X = x | x \\in [0, 1]) = {P(X) \\over P(X \\in [0, 1])} = {{x \\over 2} \\over {1 \\over 4}} = 2x\n",
    "$$\n",
    "\n",
    "$$\n",
    "P(X = x | x \\in [0, 1]) = {P(X) \\over P(X \\in [1, 2])} = {{x \\over 2} \\over {3 \\over 4}} = {2 \\over 3}x\n",
    "$$"
   ]
  },
  {
   "cell_type": "markdown",
   "metadata": {},
   "source": [
    "We get the conditional distribution of $Y$ on the lower interval by applying the change of variables formula.\n",
    "\n",
    "$$\n",
    "P(Y = y | X \\in [0, 1]) = P(X = h_{[0, 1]}(y) | X \\in [0, 1]) \\cdot |{d \\over dy} h_{[0, 1]}(y)|\n",
    "$$\n",
    "\n",
    "$$\n",
    "P(Y = y | X \\in [0, 1]) = P(X = (1 - (1 - y)^{1 / 2})) \\cdot |-{1 \\over 2}(1 - y)^{-1 / 2}|\n",
    "$$\n",
    "\n",
    "$$\n",
    "P(Y = y | X \\in [0, 1]) = 2 (1 - (1 - y)^{1 / 2}) {1 \\over 2}(1 - y)^{-1 / 2}\n",
    "$$\n",
    "\n",
    "Then, assume $y \\ne 1$,\n",
    "\n",
    "$$\n",
    "P(Y = y | X \\in [0, 1)) = ((1 - y)^{-1 / 2} - 1) \n",
    "$$"
   ]
  },
  {
   "cell_type": "markdown",
   "metadata": {},
   "source": [
    "We get the conditional distribution of $Y$ on the upper interval by applying the change of variables formula.\n",
    "\n",
    "$$\n",
    "P(Y = y | X \\in [1, 2]) = P(X = h_{[1, 2]}(y)) \\cdot |{d \\over dy} h_{[1, 2]}(y)|\n",
    "$$\n",
    "\n",
    "$$\n",
    "P(Y = y | X \\in [1, 2]) = P(X = 1 + (1 - y)^{1 / 2}) \\cdot |{1 \\over 2}(1 - y)^{-1 / 2}|\n",
    "$$\n",
    "\n",
    "$$\n",
    "P(Y = y | X \\in [1, 2]) = {2 \\over 3}(1 + (1 - y)^{1 / 2}){1\\over 2}(1 - y)^{-1 / 2}\n",
    "$$\n",
    "\n",
    "Then, when $y \\ne 1$,\n",
    "\n",
    "$$\n",
    "P(Y = y | X \\in (1, 2]) = {1 \\over 3}(1 + ((1 - y)^{-1 / 2}))\n",
    "$$"
   ]
  },
  {
   "cell_type": "code",
   "execution_count": 4,
   "metadata": {},
   "outputs": [
    {
     "data": {
      "image/png": "[encoded data removed]",
      "text/plain": [
       "<Figure size 400x350 with 1 Axes>"
      ]
     },
     "metadata": {},
     "output_type": "display_data"
    }
   ],
   "source": [
    "y = np.linspace(0, 0.95, 100)\n",
    "p_01 = ((1 - y)**-0.5 - 1)\n",
    "p_12 = (1/3)*(1 + (1 - y)**-0.5)\n",
    "plt.figure(figsize=(4, 3.5))\n",
    "plt.plot(y, p_01, label=\"$Y | X \\\\in [0, 1]$\")\n",
    "plt.plot(y, p_12, label=\"$Y | X \\\\in [1, 2]$\")\n",
    "plt.xlabel(\"$Y$\")\n",
    "plt.ylabel(\"$P$\")\n",
    "plt.legend()\n",
    "plt.show()"
   ]
  },
  {
   "cell_type": "markdown",
   "metadata": {},
   "source": [
    "Recombine the two intervals. We are playing fast and loose with open/closed intervals around $Y = 1$ here, but again, that's ok because $Y$ is a continuous random variable.\n",
    "\n",
    "$$\n",
    "P(Y) = P(Y | X \\in [0, 1])P(X \\in [0, 1]) + P(Y | X \\in [1, 2])P(X \\in [1, 2])\n",
    "$$\n",
    "\n",
    "$$\n",
    "P(Y) = \\left( ((1 - y)^{-1 / 2} - 1)  \\right) {1\\over 4} + \\left( {1 \\over 3}(1 + ((1 - y)^{-1 / 2}))  \\right) {3 \\over 4}\n",
    "$$\n",
    "\n",
    "$$\n",
    "P(Y) = {1\\over 4}(1 - y)^{-1 / 2} - {1\\over 4} + {1 \\over 3}{3 \\over 4} + {1 \\over 3}{3 \\over 4}(1 - y)^{-1 / 2}\n",
    "$$\n",
    "\n",
    "$$\n",
    "P(Y) = ({1\\over 4} + {1 \\over 3}{3 \\over 4})(1 - y)^{-1 / 2}\n",
    "$$\n",
    "\n",
    "$$\n",
    "P(Y) = {(1 - y)^{-1 / 2} \\over 2}\n",
    "$$"
   ]
  },
  {
   "cell_type": "markdown",
   "metadata": {},
   "source": [
    "13. **Let Z be the rate at which customers are served in a queue. Assume that Z has the p.d.f.**\n",
    "\n",
    "$$\n",
    "f(z) = \\begin{cases}\n",
    "2\\exp(-2z) & \\text{for } z \\gt 0 \\\\\n",
    "0 & \\text{otherwise}\n",
    "\\end{cases}\n",
    "$$\n",
    "\n",
    "Find the p.d.f. of the average waiting time T= 1/Z."
   ]
  },
  {
   "cell_type": "markdown",
   "metadata": {},
   "source": [
    "$$\\int f(z) = \\int 2\\exp(-2z) dz = -\\exp(-2z)$$\n",
    "\n",
    "$$P(Z < a) = \\int_0^z f(z) dz$$\n",
    "\n",
    "$$P(Z < a) = \\int_0^a 2\\exp(-2z) dz$$\n",
    "\n",
    "$$P(Z < a) = (-\\exp(-2a)) - (-\\exp(-2(0)))$$\n",
    "\n",
    "$$P(Z < a) = 1-\\exp(-2a)$$"
   ]
  },
  {
   "cell_type": "markdown",
   "metadata": {},
   "source": [
    "Let $T = 1 / Z = g(z)$. Let $h$ be the inverse of $g$, so that $z = h(g(z))$.\n",
    "\n",
    "$$\n",
    "h(t) = {1 \\over t}\n",
    "$$\n"
   ]
  },
  {
   "cell_type": "markdown",
   "metadata": {},
   "source": [
    "We can see that $g$ is monotonically decreasing with respect to $Z$ on $Z \\in (0, \\infty)$. So,\n",
    "\n",
    "$$\n",
    "P(T < b) = 1 - P(Z < h(b))\n",
    "$$\n",
    "\n",
    "$$\n",
    "P(T < b) = 1 - P(Z < {1 \\over b})\n",
    "$$\n",
    "\n",
    "$$\n",
    "P(T < b) = 1 - (1 - \\exp(-2{1 \\over b}))\n",
    "$$\n",
    "\n",
    "$$\n",
    "P(T < b) = \\exp(-2{1 \\over b})\n",
    "$$\n",
    "\n",
    "$$\n",
    "P(T = b) = {d \\over db} \\exp(-2b^{-1})\n",
    "$$\n",
    "\n",
    "$$\n",
    "P(T = b) = 2b^{-2}\\exp(-2b^{-1})\n",
    "$$"
   ]
  },
  {
   "cell_type": "markdown",
   "metadata": {},
   "source": [
    "# Chapter 3.9"
   ]
  },
  {
   "cell_type": "markdown",
   "metadata": {},
   "source": [
    "4. **Suppose that $X_1$ and $X_2$ have a continuous joint distribution for which the joint p.d.f. is as follows:**\n",
    "\n",
    "$$\n",
    "f(x_1, x_2) = \\begin{cases}\n",
    "x_1 + x_2 & 0 \\lt x_1 \\lt 1, 0 \\lt x_2 \\lt 1 \\\\\n",
    "0 & \\text{otherwise}\n",
    "\\end{cases}\n",
    "$$\n",
    "\n",
    "Determine the p.d.f. of $Y= X_1 X_2$."
   ]
  },
  {
   "cell_type": "markdown",
   "metadata": {},
   "source": [
    "This one is kinda tricky. We could try to directly,\n",
    "\n",
    "$P(Y = y) = \\int_{x_1, x_2 : x_1 x_2 = y} f(x_1, x_2) dx_1 dx_2$\n",
    "\n",
    "$y = x_1 x_2$\n",
    "\n",
    "$x_2 = y x_1^{-1}$\n",
    "\n",
    "$dx_2 = {d \\over dx_1}(y x_1^{-1}) = -y x_1^{-2}$\n",
    "\n",
    "$P(Y = y) = \\int_0^1 (x_1 + y x_1^{-1})(-y x_1^{-2}) dx_1$\n",
    "\n",
    "$P(Y = y) = \\int_0^1 -y(x_1^{-1} + y x_1^{-3}) dx_1$\n",
    "\n",
    "This, obviously, diverges."
   ]
  },
  {
   "cell_type": "markdown",
   "metadata": {},
   "source": [
    "We could instead compute the CDF of $Y$,\n",
    "\n",
    "$P(Y < y) = \\int_0^1 \\int_0^{\\min(1, y x_1^{-1})} (x_1 + x_2) dx_2 dx_1$\n",
    "\n",
    "This involves a bounds change though. See the graph below."
   ]
  },
  {
   "cell_type": "code",
   "execution_count": 5,
   "metadata": {},
   "outputs": [
    {
     "name": "stderr",
     "output_type": "stream",
     "text": [
      "/var/folders/l_/zjyw1l0d37x3lbbq6x4vvs_00000gn/T/ipykernel_85403/3013367660.py:7: RuntimeWarning: divide by zero encountered in divide\n",
      "  x_2 = y/x_1\n"
     ]
    },
    {
     "data": {
      "image/png": "[encoded data removed]",
      "text/plain": [
       "<Figure size 640x480 with 1 Axes>"
      ]
     },
     "metadata": {},
     "output_type": "display_data"
    }
   ],
   "source": [
    "y = 0.5\n",
    "\n",
    "lim = 1.5\n",
    "eps = 0.02\n",
    "\n",
    "x_1 = np.linspace(0, lim, 100)\n",
    "x_2 = y/x_1\n",
    "plt.plot(x_1, x_2, label=f\"$y = {y}$\", c=\"C0\")\n",
    "plt.vlines(1, 0, lim, label=\"$x_1 = 1$\", color=\"C1\")\n",
    "plt.hlines(1, 0, lim, label=\"$x_2 = 1$\", color=\"C2\")\n",
    "plt.fill_between(x_1[x_1 <= 1], np.zeros_like(x_1[x_1 <= 1]), np.minimum(x_2[x_1 <= 1], 1), color=\"C0\", alpha=0.2, label=\"Region of Integration\")\n",
    "plt.xlim(0, lim)\n",
    "plt.ylim(0, lim)\n",
    "plt.xlabel(\"$x_1$\")\n",
    "plt.ylabel(\"$x_2$\")\n",
    "plt.plot(1, y, \"o\", c=\"black\")\n",
    "plt.text(1 + eps, y + eps, \"$(1, y)$\", c=\"black\")\n",
    "plt.plot(y, 1, \"o\", c=\"black\")\n",
    "plt.text(y + eps, 1 + eps, \"$(y, 1)$\", c=\"black\")\n",
    "plt.plot(1, 1, \"o\", c=\"black\")\n",
    "plt.text(1 + eps, 1 + eps, \"$(1, 1)$\", c=\"black\")\n",
    "plt.title(\"Region of Integration for $P(Y < 0.5)$\")\n",
    "plt.legend()\n",
    "plt.show()"
   ]
  },
  {
   "cell_type": "markdown",
   "metadata": {},
   "source": [
    "So, the actual plan will be to compute $1 - P(Y < y)$. This is easy because we know that the joint distribution of $x_1$ and $x_2$ integrates to 1 over the unit square."
   ]
  },
  {
   "cell_type": "code",
   "execution_count": 6,
   "metadata": {},
   "outputs": [
    {
     "data": {
      "image/png": "[encoded data removed]",
      "text/plain": [
       "<Figure size 640x480 with 1 Axes>"
      ]
     },
     "metadata": {},
     "output_type": "display_data"
    }
   ],
   "source": [
    "plt.plot(x_1, x_2, label=f\"$y = {y}$\", c=\"C0\")\n",
    "plt.vlines(1, 0, lim, label=\"$x_1 = 1$\", color=\"C1\")\n",
    "plt.hlines(1, 0, lim, label=\"$x_2 = 1$\", color=\"C2\")\n",
    "mask = (x_1 > y) & (x_1 <= 1)\n",
    "plt.fill_between(x_1[mask], x_2[mask], np.ones_like(x_1[mask]), color=\"C0\", alpha=0.2, label=\"Region of Integration\")\n",
    "plt.xlim(0, lim)\n",
    "plt.ylim(0, lim)\n",
    "plt.xlabel(\"$x_1$\")\n",
    "plt.ylabel(\"$x_2$\")\n",
    "plt.plot(1, y, \"o\", c=\"black\")\n",
    "plt.text(1 + eps, y + eps, \"$(1, y)$\", c=\"black\")\n",
    "plt.plot(y, 1, \"o\", c=\"black\")\n",
    "plt.text(y + eps, 1 + eps, \"$(y, 1)$\", c=\"black\")\n",
    "plt.plot(1, 1, \"o\", c=\"black\")\n",
    "plt.text(1 + eps, 1 + eps, \"$(1, 1)$\", c=\"black\")\n",
    "plt.title(\"Region of Integration for $1 - P(Y < 0.5)$\")\n",
    "plt.legend()\n",
    "plt.show()"
   ]
  },
  {
   "cell_type": "markdown",
   "metadata": {},
   "source": [
    "$$\n",
    "1 - P(Y < y) = \\int_y^1 \\int_{y \\over x_1}^1 (x_1 + x_2) dx_2 dx_1\n",
    "$$\n",
    "\n",
    "$$\n",
    "1 - P(Y < y) = \\int_y^1 \\left[ x_1x_2 + {1\\over 2}x_2^2 \\right]_{y \\over x_1}^1 dx_1\n",
    "$$\n",
    "\n",
    "$$\n",
    "1 - P(Y < y) = \\int_y^1 \\left( x_1 + {1\\over 2} \\right) - \\left( x_1{y \\over x_1} + {1\\over 2}({y \\over x_1})^2 \\right) dx_1\n",
    "$$\n",
    "\n",
    "$$\n",
    "1 - P(Y < y) = \\int_y^1 x_1 + {1\\over 2} - y - {1\\over 2}y^2x_1^{-2} dx_1\n",
    "$$\n",
    "\n",
    "$$\n",
    "1 - P(Y < y) = \\int_y^1 x_1 - {1\\over 2}y^2x_1^{-2} + ({1\\over 2} - y) dx_1\n",
    "$$"
   ]
  },
  {
   "cell_type": "markdown",
   "metadata": {},
   "source": [
    "$$\n",
    "1 - P(Y < y) = \\left[ {1\\over 2}x_1^2 + {1\\over 2}y^2x_1^{-1} + ({1\\over 2} - y)x_1 \\right]_y^1\n",
    "$$\n",
    "\n",
    "$$\n",
    "1 - P(Y < y) = \\left( {1\\over 2}1^2 + {1\\over 2}y^21^{-1} + ({1\\over 2} - y)1 \\right) - \\left( {1\\over 2}y^2 + {1\\over 2}y^2y^{-1} + ({1\\over 2} - y)y \\right)\n",
    "$$\n",
    "\n",
    "$$\n",
    "1 - P(Y < y) = \\left( {1\\over 2} + {1\\over 2}y^2 + {1\\over 2} - y \\right) - \\left( {1\\over 2}y^2 + {1\\over 2}y + {1\\over 2}y - y^2 \\right)\n",
    "$$\n",
    "\n",
    "$$\n",
    "1 - P(Y < y) = {1\\over 2} + {1\\over 2}y^2 + {1\\over 2} - y - {1\\over 2}y^2 - {1\\over 2}y - {1\\over 2}y + y^2\n",
    "$$\n",
    "\n",
    "$$\n",
    "1 - P(Y < y) = {1\\over 2}y^2 - {1\\over 2}y^2 + y^2 - y - {1\\over 2}y - {1\\over 2}y + {1\\over 2} + {1\\over 2}\n",
    "$$\n",
    "\n",
    "$$\n",
    "1 - P(Y < y) = y^2 - 2y + 1\n",
    "$$\n",
    "\n",
    "$$\n",
    "P(Y < y) = 1 - (y^2 - 2y + 1)\n",
    "$$\n",
    "\n",
    "$$\n",
    "P(Y < y) = - y^2 + 2y\n",
    "$$"
   ]
  },
  {
   "cell_type": "markdown",
   "metadata": {},
   "source": [
    "Then, we can take the derivative to get the p.d.f.\n",
    "\n",
    "$$\n",
    "P(Y = y) = {d\\over dy}P(Y < y) = {d \\over dy}- y^2 + 2y = 2 - 2y\n",
    "$$"
   ]
  },
  {
   "cell_type": "markdown",
   "metadata": {},
   "source": [
    "8. **Suppose that $X1, . . . , Xn$ form a random sample of size $n$ from the uniform distribution on the interval $[0, 1]$ and that $Y_n = \\max {X_1, . . . , X_n}$. Find the smallest value of $n$ such that, $P(Y_n \\ge 0.99) \\ge 0.95$**"
   ]
  },
  {
   "cell_type": "markdown",
   "metadata": {},
   "source": [
    "Note that,\n",
    "\n",
    "$P(Y_n \\ge y) = 1 - P(Y_n \\lt y)$\n",
    "\n",
    "And, for $y \\in [0, 1]$,\n",
    "\n",
    "$P(X_i \\lt y) = 1 - P(X_i \\ge y) = y$"
   ]
  },
  {
   "cell_type": "markdown",
   "metadata": {},
   "source": [
    "$Y_n$ is less than $y$ if and only if all of the $X_i$ are less than $y$. The $X_i$ are independent, as they form a random sample. So, the probability that they will all be less than $y$ is the product of their individual probabilities of being less than $y$.\n",
    "\n",
    "$$\n",
    "P(Y_n \\lt y) = P(X_i \\lt y)^n\n",
    "$$\n",
    "\n",
    "$$\n",
    "P(Y_n \\lt y) = y^n\n",
    "$$\n",
    "\n",
    "$$\n",
    "1 - P(Y_n \\lt y) = 1 - y^n\n",
    "$$\n",
    "\n",
    "$$\n",
    "P(Y_n \\ge y) = 1 - y^n\n",
    "$$\n",
    "\n",
    "Theh, minimize integer $n$ subject to,\n",
    "\n",
    "$$1 - 0.99^n \\ge 0.95$$\n",
    "\n",
    "$$1 - 0.95 \\ge 0.99^n$$\n",
    "\n",
    "$$0.05 \\ge 0.99^n$$\n",
    "\n",
    "$$\\log(0.05) \\ge n\\log(0.99)$$\n",
    "\n",
    "$${\\log(0.05) \\over \\log(0.99)} \\le n$$\n",
    "\n",
    "$$\n",
    "n \\ge 298.07285221322263\n",
    "$$\n",
    "\n",
    "$$\n",
    "n = 299\n",
    "$$"
   ]
  },
  {
   "cell_type": "markdown",
   "metadata": {},
   "source": []
  }
 ],
 "metadata": {
  "kernelspec": {
   "display_name": "venv",
   "language": "python",
   "name": "python3"
  },
  "language_info": {
   "codemirror_mode": {
    "name": "ipython",
    "version": 3
   },
   "file_extension": ".py",
   "mimetype": "text/x-python",
   "name": "python",
   "nbconvert_exporter": "python",
   "pygments_lexer": "ipython3",
   "version": "3.12.5"
  }
 },
 "nbformat": 4,
 "nbformat_minor": 2
}
