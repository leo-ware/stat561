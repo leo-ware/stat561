{
 "cells": [
  {
   "cell_type": "markdown",
   "metadata": {},
   "source": [
    "# Section 1.7"
   ]
  },
  {
   "cell_type": "markdown",
   "metadata": {},
   "source": [
    "1. Each year starts on one of the seven days (Sunday through Saturday). Each year is either a leap year (i.e., it includes February 29) or not. How many different calendars are possible for a year?\n",
    "\n",
    "\n",
    "\n",
    "There are 7 possible starting days and 2 possible leap years statuses. So, there are $7 \\times 2 = 14$ possible calendars."
   ]
  },
  {
   "cell_type": "markdown",
   "metadata": {
    "vscode": {
     "languageId": "plaintext"
    }
   },
   "source": [
    "6. If six dice are rolled, what is the probability that each of the six different numbers will appear exactly once?\n",
    "\n",
    "Number of outcomes with different numbers: Consider rolling the dice one at a time. The first die can be anthing (6 choices). The second die can be anything but the number that was rolled on the first die (5 choices). Etc. The total is $6!$.\n",
    "\n",
    "Total number of outcomes: $6^6$\n",
    "\n",
    "Probability: ${6! \\over 6^6} \\approx 0.015432$"
   ]
  },
  {
   "cell_type": "markdown",
   "metadata": {},
   "source": [
    "9. Suppose that three runners from team A and three runners from team B participate in a race. If all six runners have equal ability and there are no ties, what is the probability that the three runners from team A will finish first, second, and third, and the three runners from team B will finish fourth, fifth, and sixth?\n",
    "\n",
    "The runners could finish in any order, so there are $6! = 720$ possible outcomes. Since all the runners are the same speed and there are no ties, every outcome is equally likely.\n",
    "\n",
    "How many ways are there for all the A's to finish before the B's? Well, the A's could finish in any order and the B's could finish in any order. So, there are $3!^2$ ways for this to happen.\n",
    "\n",
    "So, the probability of this happening is,\n",
    "\n",
    "$$\n",
    "{3!^2 \\over 6!} = {36 \\over 720} = {1 \\over 20}\n",
    "$$"
   ]
  },
  {
   "cell_type": "markdown",
   "metadata": {},
   "source": [
    "# Section 1.8"
   ]
  },
  {
   "cell_type": "markdown",
   "metadata": {},
   "source": [
    "2. Which of the following two numbers is larger: ${93 \\choose 30}$ or ${93 \\choose 31}$?\n",
    "\n",
    "$${93 \\choose 30} = {93 \\over 30!63!} = {93 \\over 30!62!63}$$\n",
    "\n",
    "$${93 \\choose 31} = {93 \\over 30!62!31} = {93 \\choose 30}{63 \\over 31}$$\n",
    "\n",
    "${93 \\choose 31}$ is larger by roughly a factor of 2."
   ]
  },
  {
   "cell_type": "markdown",
   "metadata": {},
   "source": [
    "6. Suppose that n people are seated in a random manner in a row of n theater seats. What is the probability that two particular people A and B will be seated next to each other?\n",
    "\n",
    "Person A is either sitting on the end of the row or in the middle of the row. On the end of the row, each seat is adjacent to one other seat, so the probability that B will be placed in that seat is ${1 \\over n - 1}$. In the middle, each seat is adjacent to two other seats. So, once person A is seated, there is a ${2 \\over n - 1}$ probability that person B will be seated next to them.\n",
    "\n",
    "Since there are at least two people, there must be at least two seats. The number of seats on the end of the row is always 2, so the probability that A will be on an end row is ${2 \\over n}$. The number of seats in the middle of the row is always $n - 2$, so the probability that B will be on an end row is ${n - 2 \\over n}$.\n",
    "\n",
    "The probability that A and B will be next to each other is.\n",
    "\n",
    "$$\n",
    "{2 \\over n}{1 \\over n - 1} + {n - 2 \\over n}{2 \\over n - 1}\n",
    "= {2 + 2(n - 2) \\over n(n - 1)}\n",
    "$$"
   ]
  },
  {
   "cell_type": "markdown",
   "metadata": {},
   "source": [
    "11. Suppose that a committee of 12 people is selected in a random manner from a group of 100 people. Determine the probability that two particular people A and B will both be selected.\n",
    "\n",
    "Total of ${100 \\choose 12}$ ways to select the committee.\n",
    "\n",
    "If we know we're picking A and B, then there are ${98 \\choose 10}$ ways to pick the rest of the committee.\n",
    "\n",
    "$${98 \\choose 10} \\over {100 \\choose 12}$$\n",
    "\n",
    "$$\n",
    "= {{98! \\over 10!88!} \\over {100! \\over 12!88!}}\n",
    "$$\n",
    "\n",
    "$$\n",
    "= {98!12!88! \\over 10!88!100!}\n",
    "$$\n",
    "\n",
    "$$\n",
    "= {98!*10!*12*11 \\over 10!*100*99*98!}\n",
    "$$\n",
    "\n",
    "$$\n",
    "= {12*11 \\over 100*99}\n",
    "$$\n",
    "\n",
    "$$\n",
    "\\approx 0.013\n",
    "$$"
   ]
  },
  {
   "cell_type": "markdown",
   "metadata": {},
   "source": [
    "14. Prove that, for all positive integers n and k (n ≥ k), ${n \\choose k} + {n \\choose k-1} = {n+1 \\choose k}$\n",
    "\n",
    "${n \\choose k} + {n \\choose k-1}$\n",
    "\n",
    "$= {n! \\over k!(n-k)!} + {n! \\over (k-1)!(n-k+1)!}$\n",
    "\n",
    "$= {n!(n - k + 1) \\over k!(n-k)!(n - k + 1)} + {n!k \\over k(k-1)!(n-k+1)!}$\n",
    "\n",
    "$= {n!(n - k + 1) \\over k!(n - k + 1)!} + {n!k \\over k!(n-k+1)!}$\n",
    "\n",
    "$= {n!(n - k + 1) \\over k!(n - k + 1)!} + {n!k \\over k!(n-k+1)!}$\n",
    "\n",
    "$= {n!(n - k + 1) + n!k \\over k!(n - k + 1)!}$\n",
    "\n",
    "$= {n!(n - k + 1 + k) \\over k!(n - k + 1)!}$\n",
    "\n",
    "$= {n!(n + 1) \\over k!(n - k + 1)!}$\n",
    "\n",
    "$= {(n + 1)! \\over k!((n + 1) - k)!}$\n",
    "\n",
    "$ = {n + 1 \\choose k}$"
   ]
  },
  {
   "cell_type": "markdown",
   "metadata": {},
   "source": [
    "# Section 1.9"
   ]
  },
  {
   "cell_type": "markdown",
   "metadata": {},
   "source": [
    "1. Three pollsters will canvas a neighborhood with 21 houses. Each pollster will visit seven of the houses. How many different assignments of pollsters to houses are possible?\n",
    "\n",
    "$$\n",
    "{21 \\choose 7, 7, 7} = \\frac{21!}{7!7!7!} = 399072960\n",
    "$$"
   ]
  },
  {
   "cell_type": "markdown",
   "metadata": {},
   "source": [
    "6. If seven balanced dice are rolled, what is the probability that each of the six different numbers will appear at least once?\n",
    "\n",
    "If 7 dice are rolled, there are $6^7$ possible outcomes. If each of the six different numbers appears at least once, that means that each number will appear once except for one number, which will appear twice.\n",
    "\n",
    "There are 6 ways to choose which number will appear twice. Once we have selected that number, there are $7!/2$ ways to choose the order in which they appear, because there are 7 ways to order the dice, but then we need to divide by the number of ways to order the duplicated dice, because these are indistinguishable.\n",
    "\n",
    "So, the answer is\n",
    "\n",
    "$$\n",
    "{6 * {7! \\over 2} \\over 6^7} = {30240 \\over 559872} \\approx 0.05401234567\n",
    "$$"
   ]
  },
  {
   "cell_type": "markdown",
   "metadata": {},
   "source": [
    "# Section 1.10"
   ]
  },
  {
   "cell_type": "markdown",
   "metadata": {},
   "source": [
    "2. In a certain city, three newspapers A, B, and C are published. Suppose that 60 percent of the families in the city subscribe to newspaper A, 40 percent of the families subscribe to newspaper B, and 30 percent subscribe to newspaper C. Suppose also that 20 percent of the families subscribe to both A and B, 10 percent subscribe to both A and C, 20 percent subscribe to both B and C, and 5 percent subscribe to all three newspapers A, B, and C. What percentage of the families in the city subscribe to at least one of the three newspapers?\n",
    "\n",
    "$P(A) = 0.6$\n",
    "\n",
    "$P(B) = 0.4$\n",
    "\n",
    "$P(C) = 0.3$\n",
    "\n",
    "$P(A \\cap B) = 0.2$\n",
    "\n",
    "$P(A \\cap C) = 0.1$\n",
    "\n",
    "$P(B \\cap C) = 0.2$\n",
    "\n",
    "$P(A \\cap B \\cap C) = 0.05$\n",
    "\n",
    "By the inclusion-exclusion principle,\n",
    "\n",
    "$P(A \\cup B \\cup C)$\n",
    "\n",
    "$= P(A) + P(B) + P(C) - P(A \\cap B) - P(A \\cap C) - P(B \\cap C) + P(A \\cap B \\cap C)$\n",
    "\n",
    "$= 0.6 + 0.4 + 0.3 - 0.2 - 0.1 - 0.2 + 0.05$\n",
    "\n",
    "$= 0.85$"
   ]
  },
  {
   "cell_type": "markdown",
   "metadata": {},
   "source": [
    "3. For the conditions of Exercise 2, what percentage of the families in the city subscribe to exactly one of the three newspapers?\n",
    "\n",
    "We already have the number of people who subscribe to at least one newspaper. From this, we need to substract the number of people who subscribe to two or more newspapers.\n",
    "\n",
    "By the inclusion-exclusion principle,\n",
    "\n",
    "$P((A\\cap B) \\cup (B \\cap C) \\cup (A \\cap C))$\n",
    "\n",
    "$= P(A\\cap B) + P(A \\cap C) + P(B \\cap C) - P((A\\cap B) \\cap (A \\cap C)) - P((A\\cap B) \\cap (B \\cap C)) - P((A\\cap C) \\cap (B \\cap C)) + P((A\\cap B) \\cap (B \\cap C) \\cap (A \\cap C))$\n",
    "\n",
    "Note that all the terms after the first three are equivalent to $P(A \\cap B \\cap C)$. So,\n",
    "\n",
    "$= P(A\\cap B) + P(A \\cap C) + P(B \\cap C) - 2P(A \\cap B \\cap C)$\n",
    "\n",
    "$= 0.2 + 0.1 + 0.2 - 2*0.05$\n",
    "\n",
    "$= 0.4$\n",
    "\n",
    "So, the number of people who subscribe to exactly one of the three newspapers is,\n",
    "\n",
    "$0.85 - 0.4 = 0.45$"
   ]
  },
  {
   "cell_type": "markdown",
   "metadata": {},
   "source": [
    "8. If n letters are placed at random in n envelopes, what is the probability that exactly n − 1 letters will be placed in the correct envelopes?\n",
    "\n",
    "This is impossible. If there are n - 1 letters already in the correct envelopes, then there is only one remaining letter and one remaining envelope, and it is the correct letter for that envelope."
   ]
  },
  {
   "cell_type": "markdown",
   "metadata": {},
   "source": []
  }
 ],
 "metadata": {
  "kernelspec": {
   "display_name": "Python 3",
   "language": "python",
   "name": "python3"
  },
  "language_info": {
   "codemirror_mode": {
    "name": "ipython",
    "version": 3
   },
   "file_extension": ".py",
   "mimetype": "text/x-python",
   "name": "python",
   "nbconvert_exporter": "python",
   "pygments_lexer": "ipython3",
   "version": "3.12.5"
  }
 },
 "nbformat": 4,
 "nbformat_minor": 2
}
